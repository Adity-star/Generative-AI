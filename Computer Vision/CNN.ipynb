{
  "nbformat": 4,
  "nbformat_minor": 0,
  "metadata": {
    "colab": {
      "provenance": []
    },
    "kernelspec": {
      "name": "python3",
      "display_name": "Python 3"
    },
    "language_info": {
      "name": "python"
    }
  },
  "cells": [
    {
      "cell_type": "markdown",
      "source": [
        "# CNN\n",
        "## 1. Load Dataset"
      ],
      "metadata": {
        "id": "7j81F1NhbYxd"
      }
    },
    {
      "cell_type": "code",
      "execution_count": 16,
      "metadata": {
        "id": "14KiCKBlcSSJ"
      },
      "outputs": [],
      "source": [
        "import torch\n",
        "import torch.nn as nn\n",
        "from torchvision import datasets, transforms\n",
        "import matplotlib.pyplot as plt\n",
        "from torchinfo import summary\n",
        "import numpy as np\n",
        "from torch.utils.data import DataLoader"
      ]
    },
    {
      "cell_type": "code",
      "source": [
        "\n",
        "transform = transforms.Compose([\n",
        "    transforms.ToTensor(),\n",
        "    transforms.Normalize((0.5,), (0.5,)) ])\n",
        "\n",
        "# Download the MNIST training and test datasets\n",
        "train_dataset = datasets.MNIST(root='./data', train=True, download=True, transform=transform)\n",
        "test_dataset = datasets.MNIST(root='./data', train=False, download=True, transform=transform)\n"
      ],
      "metadata": {
        "colab": {
          "base_uri": "https://localhost:8080/"
        },
        "id": "UltuuQfderbh",
        "outputId": "0481298f-ab20-4a73-f415-0b54a038f557"
      },
      "execution_count": 18,
      "outputs": [
        {
          "output_type": "stream",
          "name": "stderr",
          "text": [
            "100%|██████████| 9.91M/9.91M [00:00<00:00, 83.7MB/s]\n",
            "100%|██████████| 28.9k/28.9k [00:00<00:00, 40.1MB/s]\n",
            "100%|██████████| 1.65M/1.65M [00:00<00:00, 78.4MB/s]\n",
            "100%|██████████| 4.54k/4.54k [00:00<00:00, 1.09MB/s]\n"
          ]
        }
      ]
    },
    {
      "cell_type": "code",
      "source": [
        "# Create DataLoader for batching\n",
        "train_loader = DataLoader(train_dataset, batch_size=64, shuffle=True)\n",
        "test_loader = DataLoader(test_dataset, batch_size=64, shuffle=False)"
      ],
      "metadata": {
        "id": "NERod31SgDxC"
      },
      "execution_count": 27,
      "outputs": []
    },
    {
      "cell_type": "code",
      "source": [
        "import torch\n",
        "import torch.nn.functional as F\n",
        "import matplotlib.pyplot as plt\n",
        "import numpy as np\n",
        "\n",
        "def plot_convolution(filter_tensor, filter_name):\n",
        "\n",
        "    test_image = torch.zeros(1, 1, 10, 10)\n",
        "    test_image[0, 0, 4:7, 4:7] = 1\n",
        "\n",
        "    # Apply the filter using 2D convolution\n",
        "    filtered_image = F.conv2d(test_image, filter_tensor.unsqueeze(0).unsqueeze(0), padding=1)\n",
        "\n",
        "    # Convert tensor to numpy for visualization\n",
        "    filtered_image = filtered_image.squeeze().detach().numpy()\n",
        "\n",
        "    # Plot the original and filtered images\n",
        "    plt.figure(figsize=(6, 3))\n",
        "\n",
        "    # Original Image\n",
        "    plt.subplot(1, 2, 1)\n",
        "    plt.imshow(test_image.squeeze(), cmap='gray')\n",
        "    plt.title(\"Original Image\")\n",
        "\n",
        "    # Filtered Image\n",
        "    plt.subplot(1, 2, 2)\n",
        "    plt.imshow(filtered_image, cmap='gray')\n",
        "    plt.title(filter_name)\n",
        "\n",
        "    plt.show()\n",
        "\n",
        "# Vertical edge filter\n",
        "vertical_filter = torch.tensor([[-1., 0., 1.],\n",
        "                                [-1., 0., 1.],\n",
        "                                [-1., 0., 1.]])\n",
        "plot_convolution(vertical_filter, 'Vertical Edge Filter')\n",
        "\n",
        "# Horizontal edge filter\n",
        "horizontal_filter = torch.tensor([[-1., -1., -1.],\n",
        "                                  [ 0.,  0.,  0.],\n",
        "                                  [ 1.,  1.,  1.]])\n",
        "plot_convolution(horizontal_filter, 'Horizontal Edge Filter')\n"
      ],
      "metadata": {
        "colab": {
          "base_uri": "https://localhost:8080/",
          "height": 571
        },
        "id": "3ArEpRmpcVPo",
        "outputId": "67c7249d-0934-4317-87c0-a7d7c6b07904"
      },
      "execution_count": 28,
      "outputs": [
        {
          "output_type": "display_data",
          "data": {
            "text/plain": [
              "<Figure size 600x300 with 2 Axes>"
            ],
            "image/png": "[encoded data removed]"
          },
          "metadata": {}
        },
        {
          "output_type": "display_data",
          "data": {
            "text/plain": [
              "<Figure size 600x300 with 2 Axes>"
            ],
            "image/png": "[encoded data removed]"
          },
          "metadata": {}
        }
      ]
    },
    {
      "cell_type": "markdown",
      "source": [
        "## 2. Build a CNN Network"
      ],
      "metadata": {
        "id": "X2nnFWTVcVVP"
      }
    },
    {
      "cell_type": "code",
      "source": [
        "# Define a CNN network\n",
        "class OneConv(nn.Module):\n",
        "    def __init__(self):\n",
        "        super(OneConv, self).__init__()\n",
        "        self.conv = nn.Conv2d(in_channels=1,out_channels=9,kernel_size=(5,5))\n",
        "        self.flatten = nn.Flatten()\n",
        "        self.fc = nn.Linear(5184,10)\n",
        "\n",
        "    def forward(self, x):\n",
        "        x = nn.functional.relu(self.conv(x))\n",
        "        x = self.flatten(x)\n",
        "        x = nn.functional.log_softmax(self.fc(x),dim=1)\n",
        "        return x\n",
        "\n",
        "net = OneConv()\n",
        "\n",
        "summary(net,input_size=(1,1,28,28))"
      ],
      "metadata": {
        "colab": {
          "base_uri": "https://localhost:8080/"
        },
        "id": "e-5xn-OScVR3",
        "outputId": "eb029c41-52ce-4478-8243-f283bdcd0994"
      },
      "execution_count": 29,
      "outputs": [
        {
          "output_type": "execute_result",
          "data": {
            "text/plain": [
              "==========================================================================================\n",
              "Layer (type:depth-idx)                   Output Shape              Param #\n",
              "==========================================================================================\n",
              "OneConv                                  [1, 10]                   --\n",
              "├─Conv2d: 1-1                            [1, 9, 24, 24]            234\n",
              "├─Flatten: 1-2                           [1, 5184]                 --\n",
              "├─Linear: 1-3                            [1, 10]                   51,850\n",
              "==========================================================================================\n",
              "Total params: 52,084\n",
              "Trainable params: 52,084\n",
              "Non-trainable params: 0\n",
              "Total mult-adds (Units.MEGABYTES): 0.19\n",
              "==========================================================================================\n",
              "Input size (MB): 0.00\n",
              "Forward/backward pass size (MB): 0.04\n",
              "Params size (MB): 0.21\n",
              "Estimated Total Size (MB): 0.25\n",
              "=========================================================================================="
            ]
          },
          "metadata": {},
          "execution_count": 29
        }
      ]
    },
    {
      "cell_type": "markdown",
      "source": [
        "## 3. Train the model"
      ],
      "metadata": {
        "id": "3jva8AZ1bh-l"
      }
    },
    {
      "cell_type": "code",
      "source": [
        "import torch\n",
        "import torch.nn as nn\n",
        "import torch.optim as optim\n",
        "from tqdm import tqdm\n",
        "\n",
        "# Define the train function\n",
        "def train(model, train_loader, test_loader, epochs):\n",
        "    \"\"\"\n",
        "    Trains the given model on the training data and evaluates it on the test data.\n",
        "\n",
        "    Args:\n",
        "        model: The neural network model to train.\n",
        "        train_loader: DataLoader for the training dataset.\n",
        "        test_loader: DataLoader for the test dataset.\n",
        "        epochs: Number of training epochs.\n",
        "\n",
        "    Returns:\n",
        "        A dictionary containing the training and test losses and accuracies for each epoch.\n",
        "    \"\"\"\n",
        "    criterion = nn.CrossEntropyLoss()\n",
        "    optimizer = optim.Adam(model.parameters())\n",
        "    device = torch.device(\"cuda\" if torch.cuda.is_available() else \"cpu\")\n",
        "    model.to(device)\n",
        "\n",
        "    # Store the training history\n",
        "    history = {'train_loss': [], 'train_acc': [], 'test_loss': [], 'test_acc': []}\n",
        "\n",
        "    for epoch in range(epochs):\n",
        "        # Training phase\n",
        "        model.train()\n",
        "        train_loss = 0.0\n",
        "        train_correct = 0\n",
        "        total_samples = 0\n",
        "\n",
        "        for batch_idx, (data, target) in enumerate(tqdm(train_loader, desc=f\"Epoch {epoch + 1}/{epochs} - Training\")):\n",
        "            data, target = data.to(device), target.to(device)\n",
        "            optimizer.zero_grad()\n",
        "            output = model(data)\n",
        "            loss = criterion(output, target)\n",
        "            loss.backward()\n",
        "            optimizer.step()\n",
        "\n",
        "            train_loss += loss.item()\n",
        "            _, predicted = torch.max(output.data, 1)\n",
        "            train_correct += (predicted == target).sum().item()\n",
        "            total_samples += target.size(0)\n",
        "\n",
        "\n",
        "        avg_train_loss = train_loss / len(train_loader)\n",
        "        train_acc = train_correct / total_samples\n",
        "        history['train_loss'].append(avg_train_loss)\n",
        "        history['train_acc'].append(train_acc)\n",
        "\n",
        "        # Evaluation phase\n",
        "        model.eval()\n",
        "        test_loss = 0.0\n",
        "        test_correct = 0\n",
        "        total_samples = 0\n",
        "\n",
        "        with torch.no_grad():\n",
        "            for data, target in tqdm(test_loader, desc=f\"Epoch {epoch + 1}/{epochs} - Testing\"):\n",
        "                data, target = data.to(device), target.to(device)\n",
        "                output = model(data)\n",
        "                loss = criterion(output, target)\n",
        "                test_loss += loss.item()\n",
        "                _, predicted = torch.max(output.data, 1)\n",
        "                test_correct += (predicted == target).sum().item()\n",
        "                total_samples += target.size(0)\n",
        "\n",
        "        avg_test_loss = test_loss / len(test_loader)\n",
        "        test_acc = test_correct / total_samples\n",
        "        history['test_loss'].append(avg_test_loss)\n",
        "        history['test_acc'].append(test_acc)\n",
        "\n",
        "        print(f\"Epoch {epoch + 1}/{epochs} - Train Loss: {avg_train_loss:.4f}, Train Acc: {train_acc:.4f}, Test Loss: {avg_test_loss:.4f}, Test Acc: {test_acc:.4f}\")\n",
        "\n",
        "    return history"
      ],
      "metadata": {
        "id": "ahYmzKDRgILZ"
      },
      "execution_count": 30,
      "outputs": []
    },
    {
      "cell_type": "code",
      "source": [
        "# Train the Model\n",
        "hist = train(net,train_loader,test_loader,epochs=5)"
      ],
      "metadata": {
        "colab": {
          "base_uri": "https://localhost:8080/"
        },
        "id": "da8-fTrOcVNK",
        "outputId": "99e0f7dc-bf67-4697-f60a-6cfb8ddab2df"
      },
      "execution_count": 31,
      "outputs": [
        {
          "output_type": "stream",
          "name": "stderr",
          "text": [
            "Epoch 1/5 - Training: 100%|██████████| 938/938 [00:24<00:00, 37.74it/s]\n",
            "Epoch 1/5 - Testing: 100%|██████████| 157/157 [00:02<00:00, 53.89it/s]\n"
          ]
        },
        {
          "output_type": "stream",
          "name": "stdout",
          "text": [
            "Epoch 1/5 - Train Loss: 0.2061, Train Acc: 0.9396, Test Loss: 0.0835, Test Acc: 0.9739\n"
          ]
        },
        {
          "output_type": "stream",
          "name": "stderr",
          "text": [
            "Epoch 2/5 - Training: 100%|██████████| 938/938 [00:23<00:00, 40.34it/s]\n",
            "Epoch 2/5 - Testing: 100%|██████████| 157/157 [00:03<00:00, 48.26it/s]\n"
          ]
        },
        {
          "output_type": "stream",
          "name": "stdout",
          "text": [
            "Epoch 2/5 - Train Loss: 0.0757, Train Acc: 0.9771, Test Loss: 0.0585, Test Acc: 0.9806\n"
          ]
        },
        {
          "output_type": "stream",
          "name": "stderr",
          "text": [
            "Epoch 3/5 - Training: 100%|██████████| 938/938 [00:24<00:00, 37.94it/s]\n",
            "Epoch 3/5 - Testing: 100%|██████████| 157/157 [00:02<00:00, 56.69it/s]\n"
          ]
        },
        {
          "output_type": "stream",
          "name": "stdout",
          "text": [
            "Epoch 3/5 - Train Loss: 0.0580, Train Acc: 0.9822, Test Loss: 0.0593, Test Acc: 0.9807\n"
          ]
        },
        {
          "output_type": "stream",
          "name": "stderr",
          "text": [
            "Epoch 4/5 - Training: 100%|██████████| 938/938 [00:24<00:00, 38.69it/s]\n",
            "Epoch 4/5 - Testing: 100%|██████████| 157/157 [00:02<00:00, 64.14it/s]\n"
          ]
        },
        {
          "output_type": "stream",
          "name": "stdout",
          "text": [
            "Epoch 4/5 - Train Loss: 0.0463, Train Acc: 0.9861, Test Loss: 0.0636, Test Acc: 0.9809\n"
          ]
        },
        {
          "output_type": "stream",
          "name": "stderr",
          "text": [
            "Epoch 5/5 - Training: 100%|██████████| 938/938 [00:23<00:00, 39.12it/s]\n",
            "Epoch 5/5 - Testing: 100%|██████████| 157/157 [00:02<00:00, 62.74it/s]"
          ]
        },
        {
          "output_type": "stream",
          "name": "stdout",
          "text": [
            "Epoch 5/5 - Train Loss: 0.0405, Train Acc: 0.9875, Test Loss: 0.0578, Test Acc: 0.9819\n"
          ]
        },
        {
          "output_type": "stream",
          "name": "stderr",
          "text": [
            "\n"
          ]
        }
      ]
    },
    {
      "cell_type": "markdown",
      "source": [
        "## 4. Visualize the Predictions"
      ],
      "metadata": {
        "id": "Bo1TwMhabpN0"
      }
    },
    {
      "cell_type": "code",
      "source": [
        "# Define the plot_results function\n",
        "def plot_results(hist):\n",
        "    \"\"\"\n",
        "    Plots the training and test losses and accuracies.\n",
        "\n",
        "    Args:\n",
        "        hist: A dictionary containing the training and test losses and accuracies for each epoch.\n",
        "    \"\"\"\n",
        "    plt.figure(figsize=(12, 4))\n",
        "\n",
        "    # Plot training and test loss\n",
        "    plt.subplot(1, 2, 1)\n",
        "    plt.plot(hist['train_loss'], label='Train Loss')\n",
        "    plt.plot(hist['test_loss'], label='Test Loss')\n",
        "    plt.title('Training and Test Loss')\n",
        "    plt.xlabel('Epoch')\n",
        "    plt.ylabel('Loss')\n",
        "    plt.legend()\n",
        "\n",
        "    # Plot training and test accuracy\n",
        "    plt.subplot(1, 2, 2)\n",
        "    plt.plot(hist['train_acc'], label='Train Accuracy')\n",
        "    plt.plot(hist['test_acc'], label='Test Accuracy')\n",
        "    plt.title('Training and Test Accuracy')\n",
        "    plt.xlabel('Epoch')\n",
        "    plt.ylabel('Accuracy')\n",
        "    plt.legend()\n",
        "\n",
        "    plt.show()"
      ],
      "metadata": {
        "id": "LQFPTePNcVK5"
      },
      "execution_count": 32,
      "outputs": []
    },
    {
      "cell_type": "code",
      "source": [
        "plot_results(hist)"
      ],
      "metadata": {
        "colab": {
          "base_uri": "https://localhost:8080/",
          "height": 260
        },
        "id": "8NCedfnEcVIl",
        "outputId": "a6252540-35b7-42f9-edef-4ca879187fef"
      },
      "execution_count": 33,
      "outputs": [
        {
          "output_type": "display_data",
          "data": {
            "text/plain": [
              "<Figure size 1200x400 with 2 Axes>"
            ],
            "image/png": "[encoded data removed]"
          },
          "metadata": {}
        }
      ]
    },
    {
      "cell_type": "code",
      "source": [
        "fig,ax = plt.subplots(1,9)\n",
        "with torch.no_grad():\n",
        "    p = next(net.conv.parameters())\n",
        "    for i,x in enumerate(p):\n",
        "        ax[i].imshow(x.detach().cpu()[0,...])\n",
        "        ax[i].axis('off')"
      ],
      "metadata": {
        "colab": {
          "base_uri": "https://localhost:8080/",
          "height": 83
        },
        "id": "QNrMq-p2g35n",
        "outputId": "84034e1f-b8d1-40c2-f6e4-26619d9a0354"
      },
      "execution_count": 34,
      "outputs": [
        {
          "output_type": "display_data",
          "data": {
            "text/plain": [
              "<Figure size 640x480 with 9 Axes>"
            ],
            "image/png": "[encoded data removed]"
          },
          "metadata": {}
        }
      ]
    },
    {
      "cell_type": "markdown",
      "source": [
        "## MultiLayered CNN and Pooling Layer"
      ],
      "metadata": {
        "id": "3JyDOfVHg6kw"
      }
    },
    {
      "cell_type": "code",
      "source": [
        "class MultiLayerCNN(nn.Module):\n",
        "    def __init__(self):\n",
        "        super(MultiLayerCNN, self).__init__()\n",
        "        self.conv1 = nn.Conv2d(1, 10, 5)\n",
        "        self.pool = nn.MaxPool2d(2, 2)\n",
        "        self.conv2 = nn.Conv2d(10, 20, 5)\n",
        "        self.fc = nn.Linear(320,10)\n",
        "\n",
        "    def forward(self, x):\n",
        "        x = self.pool(nn.functional.relu(self.conv1(x)))\n",
        "        x = self.pool(nn.functional.relu(self.conv2(x)))\n",
        "        x = x.view(-1, 320)\n",
        "        x = nn.functional.log_softmax(self.fc(x),dim=1)\n",
        "        return x\n",
        "\n",
        "net = MultiLayerCNN()\n",
        "summary(net,input_size=(1,1,28,28))"
      ],
      "metadata": {
        "colab": {
          "base_uri": "https://localhost:8080/"
        },
        "id": "zpNS-76shCir",
        "outputId": "f740bd54-0440-4324-bf73-b53038de815f"
      },
      "execution_count": 35,
      "outputs": [
        {
          "output_type": "execute_result",
          "data": {
            "text/plain": [
              "==========================================================================================\n",
              "Layer (type:depth-idx)                   Output Shape              Param #\n",
              "==========================================================================================\n",
              "MultiLayerCNN                            [1, 10]                   --\n",
              "├─Conv2d: 1-1                            [1, 10, 24, 24]           260\n",
              "├─MaxPool2d: 1-2                         [1, 10, 12, 12]           --\n",
              "├─Conv2d: 1-3                            [1, 20, 8, 8]             5,020\n",
              "├─MaxPool2d: 1-4                         [1, 20, 4, 4]             --\n",
              "├─Linear: 1-5                            [1, 10]                   3,210\n",
              "==========================================================================================\n",
              "Total params: 8,490\n",
              "Trainable params: 8,490\n",
              "Non-trainable params: 0\n",
              "Total mult-adds (Units.MEGABYTES): 0.47\n",
              "==========================================================================================\n",
              "Input size (MB): 0.00\n",
              "Forward/backward pass size (MB): 0.06\n",
              "Params size (MB): 0.03\n",
              "Estimated Total Size (MB): 0.09\n",
              "=========================================================================================="
            ]
          },
          "metadata": {},
          "execution_count": 35
        }
      ]
    },
    {
      "cell_type": "code",
      "source": [
        "hist = train(net,train_loader,test_loader,epochs=5)"
      ],
      "metadata": {
        "colab": {
          "base_uri": "https://localhost:8080/"
        },
        "id": "EsMJy46fhCfL",
        "outputId": "5a9708b2-0c08-4f12-951a-62eed9e91dca"
      },
      "execution_count": 36,
      "outputs": [
        {
          "output_type": "stream",
          "name": "stderr",
          "text": [
            "Epoch 1/5 - Training: 100%|██████████| 938/938 [00:32<00:00, 28.75it/s]\n",
            "Epoch 1/5 - Testing: 100%|██████████| 157/157 [00:03<00:00, 48.74it/s]\n"
          ]
        },
        {
          "output_type": "stream",
          "name": "stdout",
          "text": [
            "Epoch 1/5 - Train Loss: 0.2226, Train Acc: 0.9379, Test Loss: 0.0746, Test Acc: 0.9768\n"
          ]
        },
        {
          "output_type": "stream",
          "name": "stderr",
          "text": [
            "Epoch 2/5 - Training: 100%|██████████| 938/938 [00:33<00:00, 28.06it/s]\n",
            "Epoch 2/5 - Testing: 100%|██████████| 157/157 [00:03<00:00, 48.60it/s]\n"
          ]
        },
        {
          "output_type": "stream",
          "name": "stdout",
          "text": [
            "Epoch 2/5 - Train Loss: 0.0663, Train Acc: 0.9801, Test Loss: 0.0459, Test Acc: 0.9849\n"
          ]
        },
        {
          "output_type": "stream",
          "name": "stderr",
          "text": [
            "Epoch 3/5 - Training: 100%|██████████| 938/938 [00:32<00:00, 28.99it/s]\n",
            "Epoch 3/5 - Testing: 100%|██████████| 157/157 [00:03<00:00, 48.65it/s]\n"
          ]
        },
        {
          "output_type": "stream",
          "name": "stdout",
          "text": [
            "Epoch 3/5 - Train Loss: 0.0480, Train Acc: 0.9851, Test Loss: 0.0375, Test Acc: 0.9883\n"
          ]
        },
        {
          "output_type": "stream",
          "name": "stderr",
          "text": [
            "Epoch 4/5 - Training: 100%|██████████| 938/938 [00:31<00:00, 29.66it/s]\n",
            "Epoch 4/5 - Testing: 100%|██████████| 157/157 [00:04<00:00, 38.98it/s]\n"
          ]
        },
        {
          "output_type": "stream",
          "name": "stdout",
          "text": [
            "Epoch 4/5 - Train Loss: 0.0388, Train Acc: 0.9880, Test Loss: 0.0491, Test Acc: 0.9850\n"
          ]
        },
        {
          "output_type": "stream",
          "name": "stderr",
          "text": [
            "Epoch 5/5 - Training: 100%|██████████| 938/938 [00:31<00:00, 29.99it/s]\n",
            "Epoch 5/5 - Testing: 100%|██████████| 157/157 [00:03<00:00, 42.51it/s]"
          ]
        },
        {
          "output_type": "stream",
          "name": "stdout",
          "text": [
            "Epoch 5/5 - Train Loss: 0.0332, Train Acc: 0.9898, Test Loss: 0.0336, Test Acc: 0.9886\n"
          ]
        },
        {
          "output_type": "stream",
          "name": "stderr",
          "text": [
            "\n"
          ]
        }
      ]
    },
    {
      "cell_type": "code",
      "source": [
        "transform = torchvision.transforms.Compose(\n",
        "    [torchvision.transforms.ToTensor(),\n",
        "     torchvision.transforms.Normalize((0.5, 0.5, 0.5), (0.5, 0.5, 0.5))])\n",
        "\n",
        "\n",
        "trainset = torchvision.datasets.CIFAR10(root='./data', train=True, download=True, transform=transform)\n",
        "trainloader = torch.utils.data.DataLoader(trainset, batch_size=14, shuffle=True)\n",
        "testset = torchvision.datasets.CIFAR10(root='./data', train=False, download=True, transform=transform)\n",
        "testloader = torch.utils.data.DataLoader(testset, batch_size=14, shuffle=False)\n",
        "classes = ('plane', 'car', 'bird', 'cat',\n",
        "           'deer', 'dog', 'frog', 'horse', 'ship', 'truck')"
      ],
      "metadata": {
        "colab": {
          "base_uri": "https://localhost:8080/"
        },
        "id": "B5HlSDMwhCcl",
        "outputId": "2fae3dfd-e087-4ed8-8d5e-ff2a3877fc7d"
      },
      "execution_count": 37,
      "outputs": [
        {
          "output_type": "stream",
          "name": "stderr",
          "text": [
            "100%|██████████| 170M/170M [00:01<00:00, 102MB/s]\n"
          ]
        }
      ]
    },
    {
      "cell_type": "code",
      "source": [
        "# Building a model\n",
        "class LeNet(nn.Module):\n",
        "    def __init__(self):\n",
        "        super(LeNet, self).__init__()\n",
        "        self.conv1 = nn.Conv2d(3, 6, 5)\n",
        "        self.pool = nn.MaxPool2d(2)\n",
        "        self.conv2 = nn.Conv2d(6, 16, 5)\n",
        "        self.conv3 = nn.Conv2d(16,120,5)\n",
        "        self.flat = nn.Flatten()\n",
        "        self.fc1 = nn.Linear(120,64)\n",
        "        self.fc2 = nn.Linear(64,10)\n",
        "\n",
        "    def forward(self, x):\n",
        "        x = self.pool(nn.functional.relu(self.conv1(x)))\n",
        "        x = self.pool(nn.functional.relu(self.conv2(x)))\n",
        "        x = nn.functional.relu(self.conv3(x))\n",
        "        x = self.flat(x)\n",
        "        x = nn.functional.relu(self.fc1(x))\n",
        "        x = self.fc2(x)\n",
        "        return x\n",
        "\n",
        "net = LeNet()\n",
        "\n",
        "summary(net,input_size=(1,3,32,32))"
      ],
      "metadata": {
        "colab": {
          "base_uri": "https://localhost:8080/"
        },
        "id": "3-7H76XDh9AS",
        "outputId": "a2224e80-b6fb-464f-a1c8-053d75a31382"
      },
      "execution_count": 45,
      "outputs": [
        {
          "output_type": "execute_result",
          "data": {
            "text/plain": [
              "==========================================================================================\n",
              "Layer (type:depth-idx)                   Output Shape              Param #\n",
              "==========================================================================================\n",
              "LeNet                                    [1, 10]                   --\n",
              "├─Conv2d: 1-1                            [1, 6, 28, 28]            456\n",
              "├─MaxPool2d: 1-2                         [1, 6, 14, 14]            --\n",
              "├─Conv2d: 1-3                            [1, 16, 10, 10]           2,416\n",
              "├─MaxPool2d: 1-4                         [1, 16, 5, 5]             --\n",
              "├─Conv2d: 1-5                            [1, 120, 1, 1]            48,120\n",
              "├─Flatten: 1-6                           [1, 120]                  --\n",
              "├─Linear: 1-7                            [1, 64]                   7,744\n",
              "├─Linear: 1-8                            [1, 10]                   650\n",
              "==========================================================================================\n",
              "Total params: 59,386\n",
              "Trainable params: 59,386\n",
              "Non-trainable params: 0\n",
              "Total mult-adds (Units.MEGABYTES): 0.66\n",
              "==========================================================================================\n",
              "Input size (MB): 0.01\n",
              "Forward/backward pass size (MB): 0.05\n",
              "Params size (MB): 0.24\n",
              "Estimated Total Size (MB): 0.30\n",
              "=========================================================================================="
            ]
          },
          "metadata": {},
          "execution_count": 45
        }
      ]
    },
    {
      "cell_type": "code",
      "source": [
        "import torch\n",
        "import torch.nn as nn\n",
        "import torch.optim as optim\n",
        "from tqdm import tqdm\n",
        "\n",
        "# Define the train function\n",
        "def train(model, train_loader, test_loader, epochs, **kwargs): # Add **kwargs to accept additional keyword arguments\n",
        "    \"\"\"\n",
        "    Trains the given model on the training data and evaluates it on the test data.\n",
        "\n",
        "    Args:\n",
        "        model: The neural network model to train.\n",
        "        train_loader: DataLoader for the training dataset.\n",
        "        test_loader: DataLoader for the test dataset.\n",
        "        epochs: Number of training epochs.\n",
        "        **kwargs: Additional keyword arguments, including 'optimizer' and 'loss_fn'.\n",
        "\n",
        "    Returns:\n",
        "        A dictionary containing the training and test losses and accuracies for each epoch.\n",
        "    \"\"\"\n",
        "    optimizer = kwargs.get('optimizer', optim.Adam(model.parameters()))\n",
        "    criterion = kwargs.get('loss_fn', nn.CrossEntropyLoss())\n",
        "    device = torch.device(\"cuda\" if torch.cuda.is_available() else \"cpu\")\n",
        "    model.to(device)\n",
        "\n",
        "    # Store the training history\n",
        "    history = {'train_loss': [], 'train_acc': [], 'test_loss': [], 'test_acc': []}\n",
        "\n",
        "    for epoch in range(epochs):\n",
        "        # Training phase\n",
        "        model.train()\n",
        "        train_loss = 0.0\n",
        "        train_correct = 0\n",
        "        total_samples = 0\n",
        "\n",
        "        for batch_idx, (data, target) in enumerate(tqdm(train_loader, desc=f\"Epoch {epoch + 1}/{epochs} - Training\")):\n",
        "            data, target = data.to(device), target.to(device)\n",
        "            optimizer.zero_grad()\n",
        "            output = model(data)\n",
        "            loss = criterion(output, target)\n",
        "            loss.backward()\n",
        "            optimizer.step()\n",
        "\n",
        "            train_loss += loss.item()\n",
        "            _, predicted = torch.max(output.data, 1)\n",
        "            train_correct += (predicted == target).sum().item()\n",
        "            total_samples += target.size(0)\n",
        "\n",
        "\n",
        "        avg_train_loss = train_loss / len(train_loader)\n",
        "        train_acc = train_correct / total_samples\n",
        "        history['train_loss'].append(avg_train_loss)\n",
        "        history['train_acc'].append(train_acc)\n",
        "\n",
        "        # Evaluation phase\n",
        "        model.eval()\n",
        "        test_loss = 0.0\n",
        "        test_correct = 0\n",
        "        total_samples = 0\n",
        "\n",
        "        with torch.no_grad():\n",
        "            for data, target in tqdm(test_loader, desc=f\"Epoch {epoch + 1}/{epochs} - Testing\"):\n",
        "                data, target = data.to(device), target.to(device)\n",
        "                output = model(data)\n",
        "                loss = criterion(output, target)\n",
        "                test_loss += loss.item()\n",
        "                _, predicted = torch.max(output.data, 1)\n",
        "                test_correct += (predicted == target).sum().item()\n",
        "                total_samples += target.size(0)\n",
        "\n",
        "        avg_test_loss = test_loss / len(test_loader)\n",
        "        test_acc = test_correct / total_samples\n",
        "        history['test_loss'].append(avg_test_loss)\n",
        "        history['test_acc'].append(test_acc)\n",
        "\n",
        "        print(f\"Epoch {epoch + 1}/{epochs} - Train Loss: {avg_train_loss:.4f}, Train Acc: {train_acc:.4f}, Test Loss: {avg_test_loss:.4f}, Test Acc: {test_acc:.4f}\")\n",
        "\n",
        "    return history\n"
      ],
      "metadata": {
        "id": "lwnC8KjBjLg3"
      },
      "execution_count": 49,
      "outputs": []
    },
    {
      "cell_type": "code",
      "source": [
        "opt = torch.optim.SGD(net.parameters(),lr=0.001,momentum=0.9)\n",
        "hist = train(net, trainloader, testloader, epochs=3, optimizer=opt, loss_fn=nn.CrossEntropyLoss())"
      ],
      "metadata": {
        "colab": {
          "base_uri": "https://localhost:8080/"
        },
        "id": "ZS8EKu7Kiza_",
        "outputId": "1173c8f2-9628-4abf-ffa5-12dae35260be"
      },
      "execution_count": 51,
      "outputs": [
        {
          "output_type": "stream",
          "name": "stderr",
          "text": [
            "Epoch 1/3 - Training: 100%|██████████| 3572/3572 [00:42<00:00, 83.52it/s]\n",
            "Epoch 1/3 - Testing: 100%|██████████| 715/715 [00:05<00:00, 134.38it/s]\n"
          ]
        },
        {
          "output_type": "stream",
          "name": "stdout",
          "text": [
            "Epoch 1/3 - Train Loss: 1.6247, Train Acc: 0.3988, Test Loss: 1.4868, Test Acc: 0.4547\n"
          ]
        },
        {
          "output_type": "stream",
          "name": "stderr",
          "text": [
            "Epoch 2/3 - Training: 100%|██████████| 3572/3572 [00:40<00:00, 87.68it/s]\n",
            "Epoch 2/3 - Testing: 100%|██████████| 715/715 [00:05<00:00, 124.67it/s]\n"
          ]
        },
        {
          "output_type": "stream",
          "name": "stdout",
          "text": [
            "Epoch 2/3 - Train Loss: 1.4296, Train Acc: 0.4778, Test Loss: 1.3798, Test Acc: 0.4876\n"
          ]
        },
        {
          "output_type": "stream",
          "name": "stderr",
          "text": [
            "Epoch 3/3 - Training: 100%|██████████| 3572/3572 [00:40<00:00, 87.55it/s]\n",
            "Epoch 3/3 - Testing: 100%|██████████| 715/715 [00:04<00:00, 149.34it/s]"
          ]
        },
        {
          "output_type": "stream",
          "name": "stdout",
          "text": [
            "Epoch 3/3 - Train Loss: 1.3190, Train Acc: 0.5229, Test Loss: 1.3079, Test Acc: 0.5289\n"
          ]
        },
        {
          "output_type": "stream",
          "name": "stderr",
          "text": [
            "\n"
          ]
        }
      ]
    }
  ]
}