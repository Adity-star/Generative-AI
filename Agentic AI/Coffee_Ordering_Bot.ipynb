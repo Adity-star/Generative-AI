{
  "nbformat": 4,
  "nbformat_minor": 0,
  "metadata": {
    "colab": {
      "provenance": []
    },
    "kernelspec": {
      "name": "python3",
      "display_name": "Python 3"
    },
    "language_info": {
      "name": "python"
    }
  },
  "cells": [
    {
      "cell_type": "markdown",
      "source": [
        "# Agent and Automation Function Calling BOT\n",
        "A café's ordering system, agent that interacts with the user to order café drinks."
      ],
      "metadata": {
        "id": "stsUZgEn-TXR"
      }
    },
    {
      "cell_type": "code",
      "source": [
        "%pip install -qU \"google-genai>=1.0.0\""
      ],
      "metadata": {
        "colab": {
          "base_uri": "https://localhost:8080/"
        },
        "id": "1yxlXv5Z_9u2",
        "outputId": "eb26ebf0-c332-41a2-a3ea-03b5086911a0"
      },
      "execution_count": null,
      "outputs": [
        {
          "output_type": "stream",
          "name": "stdout",
          "text": [
            "\u001b[?25l   \u001b[90m━━━━━━━━━━━━━━━━━━━━━━━━━━━━━━━━━━━━━━━━\u001b[0m \u001b[32m0.0/149.6 kB\u001b[0m \u001b[31m?\u001b[0m eta \u001b[36m-:--:--\u001b[0m\r\u001b[2K   \u001b[90m━━━━━━━━━━━━━━━━━━━━━━━━━━━━━━━━━━━━━━━━\u001b[0m \u001b[32m149.6/149.6 kB\u001b[0m \u001b[31m5.9 MB/s\u001b[0m eta \u001b[36m0:00:00\u001b[0m\n",
            "\u001b[?25h"
          ]
        }
      ]
    },
    {
      "cell_type": "code",
      "source": [
        "from google.colab import userdata\n",
        "from google import genai\n",
        "API_KEY = \"API_KEY_KEY\"\n",
        "client = genai.Client(api_key=API_KEY)"
      ],
      "metadata": {
        "id": "mJ3_ZeFf_9sW"
      },
      "execution_count": null,
      "outputs": []
    },
    {
      "cell_type": "markdown",
      "source": [
        "## 1. Define the API\n",
        "createing a  functions to track the customer's order using the global variables order (the in-progress order) and placed_order (the confirmed order sent to the kitchen). Each of the order-editing functions updates the order, and once placed, order is copied to placed_order and cleared."
      ],
      "metadata": {
        "id": "66_1VEnp_9qU"
      }
    },
    {
      "cell_type": "code",
      "source": [
        "from typing import Optional\n",
        "from random import randint\n",
        "\n",
        "order = []\n",
        "Placed_order = []\n",
        "\n",
        "def add_to_order(drink: str, modifiers: Optional[list[str]] = None) -> None:\n",
        "    \"\"\"Adds the specified drink to the customer's order, including any modifiers.\"\"\"\n",
        "    if modifiers is None:\n",
        "        modifiers = []\n",
        "    order.append((drink, modifiers))\n",
        "\n",
        "\n",
        "def get_order() -> list[tuple[str, list[str]]]:\n",
        "    \"\"\"Returns the customer's order.\"\"\"\n",
        "    return order\n",
        "\n",
        "\n",
        "def remove_item(n: int) -> str:\n",
        "    \"\"\"Removes the nth (one-based) item from the order.\n",
        "\n",
        "    Returns:\n",
        "        The item that was removed.\n",
        "    \"\"\"\n",
        "    item, _ = order.pop(n - 1)\n",
        "    return item\n"
      ],
      "metadata": {
        "id": "-LaHVAeE_9oG"
      },
      "execution_count": null,
      "outputs": []
    },
    {
      "cell_type": "code",
      "source": [
        "def clear_order() -> None:\n",
        "    \"\"\"Removes all items from the customer's order.\"\"\"\n",
        "    order.clear()\n",
        "\n",
        "\n",
        "def confirm_order() -> str:\n",
        "    \"\"\"Asks the customer if the order is correct.\n",
        "\n",
        "    Returns:\n",
        "        The user's free-text response.\n",
        "    \"\"\"\n",
        "    print(\"Your order:\")\n",
        "    if not order:\n",
        "        print(\"  (no items)\")\n",
        "\n",
        "    for drink, modifiers in order:\n",
        "        print(f\"  {drink}\")\n",
        "        if modifiers:\n",
        "            print(f'   - {\", \".join(modifiers)}')\n",
        "\n",
        "    return input(\"Is this correct? \")"
      ],
      "metadata": {
        "id": "dJ3Ee3BoBiXP"
      },
      "execution_count": null,
      "outputs": []
    },
    {
      "cell_type": "code",
      "source": [
        "def place_order() -> int:\n",
        "    \"\"\"Submit the order to the kitchen.\n",
        "\n",
        "    Returns:\n",
        "        The estimated number of minutes until the order is ready.\n",
        "    \"\"\"\n",
        "    placed_order[:] = order.copy()\n",
        "    clear_order()\n",
        "    return randint(1, 10)"
      ],
      "metadata": {
        "id": "P5Tm7Xh_BoKL"
      },
      "execution_count": null,
      "outputs": []
    },
    {
      "cell_type": "markdown",
      "source": [
        "## 2. Test the API"
      ],
      "metadata": {
        "id": "abFPiwGfBs6I"
      }
    },
    {
      "cell_type": "code",
      "source": [
        "clear_order()\n",
        "add_to_order(\"Latte\", [\"Extra shot\"])\n",
        "add_to_order(\"Tea\")\n",
        "remove_item(2)\n",
        "add_to_order(\"Tea\", [\"Earl Grey\", \"hot\"])\n",
        "confirm_order()"
      ],
      "metadata": {
        "colab": {
          "base_uri": "https://localhost:8080/",
          "height": 139
        },
        "id": "txcIf0lQBzzh",
        "outputId": "f6cc82e4-9b77-471c-af46-891f07f60149"
      },
      "execution_count": null,
      "outputs": [
        {
          "name": "stdout",
          "output_type": "stream",
          "text": [
            "Your order:\n",
            "  Latte\n",
            "   - Extra shot\n",
            "  Tea\n",
            "   - Earl Grey, hot\n",
            "Is this correct? yes\n"
          ]
        },
        {
          "output_type": "execute_result",
          "data": {
            "text/plain": [
              "'yes'"
            ],
            "application/vnd.google.colaboratory.intrinsic+json": {
              "type": "string"
            }
          },
          "metadata": {},
          "execution_count": 12
        }
      ]
    },
    {
      "cell_type": "markdown",
      "source": [
        "## 3. Define the Prompt"
      ],
      "metadata": {
        "id": "FNM0cCCnBzxY"
      }
    },
    {
      "cell_type": "code",
      "source": [
        "COFFEE_BOT_PROMPT = \"\"\"\\You are a coffee order taking system and you are restricted to talk only about drinks on the MENU. Do not talk about anything but ordering MENU drinks for the customer, ever.\n",
        "Your goal is to do place_order after understanding the menu items and any modifiers the customer wants.\n",
        "Add items to the customer's order with add_to_order, remove specific items with remove_item, and reset the order with clear_order.\n",
        "To see the contents of the order so far, call get_order (by default this is shown to you, not the user)\n",
        "Always confirm_order with the user (double-check) before calling place_order. Calling confirm_order will display the order items to the user and returns their response to seeing the list. Their response may contain modifications.\n",
        "Always verify and respond with drink and modifier names from the MENU before adding them to the order.\n",
        "If you are unsure a drink or modifier matches those on the MENU, ask a question to clarify or redirect.\n",
        "You only have the modifiers listed on the menu below: Milk options, espresso shots, caffeine, sweeteners, special requests.\n",
        "Once the customer has finished ordering items, confirm_order and then place_order.\n",
        "\n",
        "Hours: Tues, Wed, Thurs, 10am to 2pm\n",
        "Prices: All drinks are free.\n",
        "\n",
        "MENU:\n",
        "Coffee Drinks:\n",
        "Espresso\n",
        "Americano\n",
        "Cold Brew\n",
        "\n",
        "Coffee Drinks with Milk:\n",
        "Latte\n",
        "Cappuccino\n",
        "Cortado\n",
        "Macchiato\n",
        "Mocha\n",
        "Flat White\n",
        "\n",
        "Tea Drinks:\n",
        "English Breakfast Tea\n",
        "Green Tea\n",
        "Earl Grey\n",
        "\n",
        "Tea Drinks with Milk:\n",
        "Chai Latte\n",
        "Matcha Latte\n",
        "London Fog\n",
        "\n",
        "Other Drinks:\n",
        "Steamer\n",
        "Hot Chocolate\n",
        "\n",
        "Modifiers:\n",
        "Milk options: Whole, 2%, Oat, Almond, 2% Lactose Free; Default option: whole\n",
        "Espresso shots: Single, Double, Triple, Quadruple; default: Double\n",
        "Caffeine: Decaf, Regular; default: Regular\n",
        "Hot-Iced: Hot, Iced; Default: Hot\n",
        "Sweeteners (option to add one or more): vanilla sweetener, hazelnut sweetener, caramel sauce, chocolate sauce, sugar free vanilla sweetener\n",
        "Special requests: any reasonable modification that does not involve items not on the menu, for example: 'extra hot', 'one pump', 'half caff', 'extra foam', etc.\n",
        "\n",
        "\"dirty\" means add a shot of espresso to a drink that doesn't usually have it, like \"Dirty Chai Latte\".\n",
        "\"Regular milk\" is the same as 'whole milk'.\n",
        "\"Sweetened\" means add some regular sugar, not a sweetener.\n",
        "\n",
        "Soy milk has run out of stock today, so soy is not available.\n",
        "\"\"\"\n"
      ],
      "metadata": {
        "id": "erja6NqJCOPh"
      },
      "execution_count": null,
      "outputs": []
    },
    {
      "cell_type": "markdown",
      "source": [
        "## 4. Setup the Model"
      ],
      "metadata": {
        "id": "idC2f50CCOMB"
      }
    },
    {
      "cell_type": "code",
      "source": [
        "from google.genai import types\n",
        "from google.api_core import retry\n",
        "\n",
        "ordering_system = [\n",
        "    add_to_order,\n",
        "    get_order,\n",
        "    remove_item,\n",
        "    clear_order,\n",
        "    confirm_order,\n",
        "    place_order,\n",
        "]"
      ],
      "metadata": {
        "id": "zLW6mdSaCOJj"
      },
      "execution_count": null,
      "outputs": []
    },
    {
      "cell_type": "code",
      "source": [
        "model_name = \"gemini-2.0-flash-lite\"  # @param [\"gemini-2.0-flash-lite\",\"gemini-2.0-flash\",\"gemini-2.5-pro-exp-03-25\"] {\"allow-input\":true}\n",
        "\n",
        "chat = client.chats.create(\n",
        "    model=model_name,\n",
        "    config=types.GenerateContentConfig(\n",
        "        tools=ordering_system,\n",
        "        system_instruction=COFFEE_BOT_PROMPT,\n",
        "    ),\n",
        ")\n",
        "\n",
        "placed_order = []\n",
        "order = []"
      ],
      "metadata": {
        "id": "yyaEKi1vCOHj"
      },
      "execution_count": null,
      "outputs": []
    },
    {
      "cell_type": "markdown",
      "source": [
        "## 5. Chat with Bot"
      ],
      "metadata": {
        "id": "YwkmAQaGCnfF"
      }
    },
    {
      "cell_type": "code",
      "source": [
        "ssfrom IPython.display import display, Markdown\n",
        "\n",
        "print(\"Welcome to Barista bot!\\n\\n\")\n",
        "\n",
        "while not placed_order:\n",
        "    response = chat.send_message(input(\"> \"))\n",
        "    display(Markdown(response.text))\n",
        "\n",
        "\n",
        "print(\"\\n\\n\")\n",
        "print(\"[barista bot session over]\")\n",
        "print()\n",
        "print(\"Your order:\")\n",
        "print(f\"  {placed_order}\\n\")\n",
        "print(\"- Thanks for using Barista Bot!\")"
      ],
      "metadata": {
        "colab": {
          "base_uri": "https://localhost:8080/",
          "height": 575
        },
        "id": "mMzS9NC_CuCb",
        "outputId": "c3aff428-b229-4df1-d3c1-52dcb55729bf"
      },
      "execution_count": null,
      "outputs": [
        {
          "name": "stdout",
          "output_type": "stream",
          "text": [
            "Welcome to Barista bot!\n",
            "\n",
            "\n",
            "> i want black hot coffee\n"
          ]
        },
        {
          "output_type": "display_data",
          "data": {
            "text/plain": [
              "<IPython.core.display.Markdown object>"
            ],
            "text/markdown": "I do not have 'black hot coffee' on the menu. Would you like an Espresso, Americano, or Cold Brew? All of these are coffee drinks served hot."
          },
          "metadata": {}
        },
        {
          "name": "stdout",
          "output_type": "stream",
          "text": [
            "> i will go with cold brew then\n"
          ]
        },
        {
          "output_type": "display_data",
          "data": {
            "text/plain": [
              "<IPython.core.display.Markdown object>"
            ],
            "text/markdown": "Okay, I have added a Cold Brew to your order. Would you like anything else?"
          },
          "metadata": {}
        },
        {
          "name": "stdout",
          "output_type": "stream",
          "text": [
            "> do you have icream\n"
          ]
        },
        {
          "output_type": "display_data",
          "data": {
            "text/plain": [
              "<IPython.core.display.Markdown object>"
            ],
            "text/markdown": "I am sorry, I cannot help you with that, I can only take orders for drinks on the MENU.\n"
          },
          "metadata": {}
        },
        {
          "name": "stdout",
          "output_type": "stream",
          "text": [
            "> how about stoned lactose free milk\n"
          ]
        },
        {
          "output_type": "display_data",
          "data": {
            "text/plain": [
              "<IPython.core.display.Markdown object>"
            ],
            "text/markdown": "I am sorry, I cannot help you with that, I can only take orders for drinks on the MENU.\n"
          },
          "metadata": {}
        },
        {
          "name": "stdout",
          "output_type": "stream",
          "text": [
            "> do you have long black\n"
          ]
        },
        {
          "output_type": "display_data",
          "data": {
            "text/plain": [
              "<IPython.core.display.Markdown object>"
            ],
            "text/markdown": "I do not have 'Long Black' on the menu. Would you like an Espresso, Americano, or Cold Brew?"
          },
          "metadata": {}
        },
        {
          "name": "stdout",
          "output_type": "stream",
          "text": [
            "> no, thats all\n",
            "Your order:\n",
            "  Cold Brew\n",
            "Is this correct? yes\n"
          ]
        },
        {
          "output_type": "display_data",
          "data": {
            "text/plain": [
              "<IPython.core.display.Markdown object>"
            ],
            "text/markdown": "Okay, your order has been placed and will be ready in approximately 6 minutes.\n"
          },
          "metadata": {}
        },
        {
          "output_type": "stream",
          "name": "stdout",
          "text": [
            "\n",
            "\n",
            "\n",
            "[barista bot session over]\n",
            "\n",
            "Your order:\n",
            "  [('Cold Brew', [])]\n",
            "\n",
            "- Thanks for using Barista Bot!\n"
          ]
        }
      ]
    }
  ]
}