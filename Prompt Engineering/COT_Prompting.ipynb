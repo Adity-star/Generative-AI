{
  "nbformat": 4,
  "nbformat_minor": 0,
  "metadata": {
    "colab": {
      "provenance": []
    },
    "kernelspec": {
      "name": "python3",
      "display_name": "Python 3"
    },
    "language_info": {
      "name": "python"
    }
  },
  "cells": [
    {
      "cell_type": "code",
      "execution_count": null,
      "metadata": {
        "id": "Wvil2oc_ucNp"
      },
      "outputs": [],
      "source": [
        "%%capture --no-stderr\n",
        "%pip install -U  langchain_community langchain-nvidia-ai-endpoints"
      ]
    },
    {
      "cell_type": "code",
      "source": [
        "import getpass\n",
        "import os\n",
        "\n",
        "\n",
        "def _set_env(var: str):\n",
        "    if not os.environ.get(var):\n",
        "        os.environ[var] = getpass.getpass(f\"{var}: \")\n",
        "\n",
        "_set_env(\"NVIDIA_API_KEY\")"
      ],
      "metadata": {
        "colab": {
          "base_uri": "https://localhost:8080/"
        },
        "id": "LHQCHGuWudJa",
        "outputId": "44b230d2-e105-4dcd-cab0-6165ed81d541"
      },
      "execution_count": null,
      "outputs": [
        {
          "name": "stdout",
          "output_type": "stream",
          "text": [
            "NVIDIA_API_KEY: ··········\n"
          ]
        }
      ]
    },
    {
      "cell_type": "code",
      "source": [
        "from langchain_nvidia_ai_endpoints import ChatNVIDIA\n",
        "from langchain.prompts import PromptTemplate\n",
        "from langchain.chains import LLMChain\n",
        "from dotenv import load_dotenv\n",
        "\n",
        "# Load environment variables\n",
        "load_dotenv()\n",
        "\n",
        "llm = ChatNVIDIA(model=\"meta/llama-3.1-70b-instruct\")"
      ],
      "metadata": {
        "id": "05TP6LRauh-D"
      },
      "execution_count": null,
      "outputs": []
    },
    {
      "cell_type": "code",
      "source": [
        "# Standard prompt\n",
        "standard_prompt = PromptTemplate(\n",
        "    input_variables=[\"question\"],\n",
        "    template=\"Answer the following question concisely: {question}.\"\n",
        ")\n",
        "\n",
        "# Chain of Thought prompt\n",
        "cot_prompt = PromptTemplate(\n",
        "    input_variables=[\"question\"],\n",
        "    template=\"Answer the following question step by step concisely: {question}\"\n",
        ")\n",
        "\n",
        "# Create chains\n",
        "standard_chain = standard_prompt | llm\n",
        "cot_chain = cot_prompt | llm"
      ],
      "metadata": {
        "id": "bNuA5kZ0uleD"
      },
      "execution_count": null,
      "outputs": []
    },
    {
      "cell_type": "code",
      "source": [
        "# Example question\n",
        "question = \"If a train travels 120 km in 2 hours, what is its average speed in km/h?\"\n",
        "\n",
        "# Get responses\n",
        "standard_response = standard_chain.invoke(question).content\n",
        "cot_response = cot_chain.invoke(question).content\n",
        "\n",
        "print(\"Standard Response:\")\n",
        "print(standard_response)\n",
        "print(\"\\nChain of Thought Response:\")\n",
        "print(cot_response)"
      ],
      "metadata": {
        "colab": {
          "base_uri": "https://localhost:8080/"
        },
        "id": "-_lITWjLus60",
        "outputId": "094b1686-58b8-4efc-85b1-dadf43e9217c"
      },
      "execution_count": null,
      "outputs": [
        {
          "output_type": "stream",
          "name": "stdout",
          "text": [
            "Standard Response:\n",
            "Average speed = Total distance / Total time = 120 km / 2 hours = 60 km/h\n",
            "\n",
            "Chain of Thought Response:\n",
            "To find the average speed of the train, we can use the formula:\n",
            "\n",
            "Average Speed = Total Distance / Time\n",
            "\n",
            "Plugging in the given values:\n",
            "\n",
            "Average Speed = 120 km / 2 hours\n",
            "Average Speed = 60 km/h\n",
            "\n",
            "Therefore, the average speed of the train is 60 km/h.\n"
          ]
        }
      ]
    },
    {
      "cell_type": "code",
      "source": [
        "advanced_cot_prompt = PromptTemplate(\n",
        "    input_variables=[\"question\"],\n",
        "    template=\"\"\"Solve the following problem step by step. For each step:\n",
        "1. State what you're going to calculate\n",
        "2. Write the formula you'll use (if applicable)\n",
        "3. Perform the calculation\n",
        "4. Explain the result\n",
        "\n",
        "Question: {question}\n",
        "\n",
        "Solution:\"\"\"\n",
        ")\n",
        "\n",
        "advanced_cot_chain = advanced_cot_prompt | llm\n",
        "\n",
        "complex_question = \"A car travels 150 km at 60 km/h, then another 100 km at 50 km/h. What is the average speed for the entire journey?\"\n",
        "\n",
        "advanced_cot_response = advanced_cot_chain.invoke(complex_question).content\n",
        "print(advanced_cot_response)"
      ],
      "metadata": {
        "colab": {
          "base_uri": "https://localhost:8080/"
        },
        "id": "n0jXMgUcuvPi",
        "outputId": "7bf36a9b-d259-4c6a-df33-1fd5507a7b1e"
      },
      "execution_count": null,
      "outputs": [
        {
          "output_type": "stream",
          "name": "stdout",
          "text": [
            "I'll solve the problem step by step.\n",
            "\n",
            "**Step 1: Calculate the time taken to travel the first 150 km**\n",
            "\n",
            "* I'm going to calculate the time taken to travel the first 150 km.\n",
            "* The formula I'll use is: Time = Distance / Speed\n",
            "* Plugging in the values, I get: Time = 150 km / 60 km/h = 2.5 hours\n",
            "* The result is that it takes 2.5 hours to travel the first 150 km.\n",
            "\n",
            "**Step 2: Calculate the time taken to travel the next 100 km**\n",
            "\n",
            "* I'm going to calculate the time taken to travel the next 100 km.\n",
            "* The formula I'll use is: Time = Distance / Speed\n",
            "* Plugging in the values, I get: Time = 100 km / 50 km/h = 2 hours\n",
            "* The result is that it takes 2 hours to travel the next 100 km.\n",
            "\n",
            "**Step 3: Calculate the total time taken for the entire journey**\n",
            "\n",
            "* I'm going to calculate the total time taken for the entire journey.\n",
            "* The formula I'll use is: Total Time = Time for the first 150 km + Time for the next 100 km\n",
            "* Plugging in the values, I get: Total Time = 2.5 hours + 2 hours = 4.5 hours\n",
            "* The result is that the total time taken for the entire journey is 4.5 hours.\n",
            "\n",
            "**Step 4: Calculate the total distance traveled**\n",
            "\n",
            "* I'm going to calculate the total distance traveled.\n",
            "* The formula I'll use is: Total Distance = Distance traveled in the first part + Distance traveled in the second part\n",
            "* Plugging in the values, I get: Total Distance = 150 km + 100 km = 250 km\n",
            "* The result is that the total distance traveled is 250 km.\n",
            "\n",
            "**Step 5: Calculate the average speed for the entire journey**\n",
            "\n",
            "* I'm going to calculate the average speed for the entire journey.\n",
            "* The formula I'll use is: Average Speed = Total Distance / Total Time\n",
            "* Plugging in the values, I get: Average Speed = 250 km / 4.5 hours ≈ 55.56 km/h\n",
            "* The result is that the average speed for the entire journey is approximately 55.56 km/h.\n"
          ]
        }
      ]
    },
    {
      "cell_type": "code",
      "source": [
        "from IPython import display\n",
        "\n",
        "display.Markdown(advanced_cot_response)"
      ],
      "metadata": {
        "colab": {
          "base_uri": "https://localhost:8080/",
          "height": 557
        },
        "id": "K11IUtIIu2uX",
        "outputId": "e1a919c4-83e4-4225-8c4d-498aa46c3a14"
      },
      "execution_count": null,
      "outputs": [
        {
          "output_type": "execute_result",
          "data": {
            "text/plain": [
              "<IPython.core.display.Markdown object>"
            ],
            "text/markdown": "I'll solve the problem step by step.\n\n**Step 1: Calculate the time taken to travel the first 150 km**\n\n* I'm going to calculate the time taken to travel the first 150 km.\n* The formula I'll use is: Time = Distance / Speed\n* Plugging in the values, I get: Time = 150 km / 60 km/h = 2.5 hours\n* The result is that it takes 2.5 hours to travel the first 150 km.\n\n**Step 2: Calculate the time taken to travel the next 100 km**\n\n* I'm going to calculate the time taken to travel the next 100 km.\n* The formula I'll use is: Time = Distance / Speed\n* Plugging in the values, I get: Time = 100 km / 50 km/h = 2 hours\n* The result is that it takes 2 hours to travel the next 100 km.\n\n**Step 3: Calculate the total time taken for the entire journey**\n\n* I'm going to calculate the total time taken for the entire journey.\n* The formula I'll use is: Total Time = Time for the first 150 km + Time for the next 100 km\n* Plugging in the values, I get: Total Time = 2.5 hours + 2 hours = 4.5 hours\n* The result is that the total time taken for the entire journey is 4.5 hours.\n\n**Step 4: Calculate the total distance traveled**\n\n* I'm going to calculate the total distance traveled.\n* The formula I'll use is: Total Distance = Distance traveled in the first part + Distance traveled in the second part\n* Plugging in the values, I get: Total Distance = 150 km + 100 km = 250 km\n* The result is that the total distance traveled is 250 km.\n\n**Step 5: Calculate the average speed for the entire journey**\n\n* I'm going to calculate the average speed for the entire journey.\n* The formula I'll use is: Average Speed = Total Distance / Total Time\n* Plugging in the values, I get: Average Speed = 250 km / 4.5 hours ≈ 55.56 km/h\n* The result is that the average speed for the entire journey is approximately 55.56 km/h."
          },
          "metadata": {},
          "execution_count": 8
        }
      ]
    },
    {
      "cell_type": "code",
      "source": [
        "challenging_question = \"\"\"\n",
        "A cylindrical water tank with a radius of 1.5 meters and a height of 4 meters is 2/3 full.\n",
        "If water is being added at a rate of 10 liters per minute, how long will it take for the tank to overflow?\n",
        "Give your answer in hours and minutes, rounded to the nearest minute.\n",
        "(Use 3.14159 for π and 1000 liters = 1 cubic meter)\"\"\"\n",
        "\n",
        "standard_response = standard_chain.invoke(challenging_question).content\n",
        "cot_response = advanced_cot_chain.invoke(challenging_question).content\n",
        "\n",
        "print(\"Standard Response:\")\n",
        "print(standard_response)\n",
        "print(\"\\nChain of Thought Response:\")\n",
        "print(cot_response)"
      ],
      "metadata": {
        "colab": {
          "base_uri": "https://localhost:8080/"
        },
        "id": "_P4EhlcQvIYd",
        "outputId": "86ebf62b-15e7-42a7-88bf-20ff75ff4340"
      },
      "execution_count": null,
      "outputs": [
        {
          "output_type": "stream",
          "name": "stdout",
          "text": [
            "Standard Response:\n",
            "To find the time it takes for the tank to overflow, first, calculate the volume of water remaining in the tank until it's full:\n",
            "\n",
            "The total volume of the tank, \\(V\\), is calculated using the formula \\(V = \\pi r^2 h\\), where \\(r = 1.5\\) meters and \\(h = 4\\) meters:\n",
            "\\[V = \\pi \\times (1.5)^2 \\times 4 = 3.14159 \\times 2.25 \\times 4 = 28.274\\] cubic meters.\n",
            "\n",
            "Since the tank is 2/3 full, the volume of water already in the tank is \\(2/3 \\times 28.274\\) cubic meters, and the remaining volume to fill the tank is \\(28.274 - 2/3 \\times 28.274\\).\n",
            "\n",
            "\\[2/3 \\times 28.274 = 18.8493\\] cubic meters.\n",
            "\n",
            "The remaining volume is \\(28.274 - 18.8493 = 9.4247\\) cubic meters.\n",
            "\n",
            "Given \\(1\\) cubic meter \\(= 1000\\) liters, the remaining volume to fill in liters is:\n",
            "\\[9.4247 \\times 1000 = 9424.7\\) liters.\n",
            "\n",
            "With water being added at a rate of 10 liters per minute, the time to fill the tank is:\n",
            "\\[9424.7 / 10 = 942.47\\) minutes.\n",
            "\n",
            "Converting the minutes to hours and minutes:\n",
            "\\[942.47 / 60 = 15.70745\\) hours.\n",
            "\n",
            "Thus, 15 hours and 42 minutes, rounded to the nearest minute.\n",
            "\n",
            "Chain of Thought Response:\n",
            "**Step 1: Calculate the volume of the cylindrical water tank**\n",
            "\n",
            "What I'm going to calculate: Volume of the cylindrical water tank\n",
            "\n",
            "Formula: V = πr^2h\n",
            "\n",
            "Where:\n",
            "V = volume (cubic meters)\n",
            "π = 3.14159\n",
            "r = radius (meters) = 1.5\n",
            "h = height (meters) = 4\n",
            "\n",
            "Calculation: V = 3.14159 × (1.5)^2 × 4 = 3.14159 × 2.25 × 4 = 28.27431 cubic meters\n",
            "\n",
            "Result: The volume of the cylindrical water tank is approximately 28.27 cubic meters.\n",
            "\n",
            "**Step 2: Convert the volume from cubic meters to liters**\n",
            "\n",
            "What I'm going to calculate: Volume of the cylindrical water tank in liters\n",
            "\n",
            "Formula: 1 cubic meter = 1000 liters\n",
            "\n",
            "Calculation: 28.27 cubic meters × 1000 liters/cubic meter = 28270 liters\n",
            "\n",
            "Result: The volume of the cylindrical water tank is approximately 28270 liters.\n",
            "\n",
            "**Step 3: Calculate the volume of water already in the tank**\n",
            "\n",
            "What I'm going to calculate: Volume of water already in the tank\n",
            "\n",
            "Given: The tank is 2/3 full\n",
            "\n",
            "Calculation: (2/3) × 28270 liters = 18913.33 liters\n",
            "\n",
            "Result: The tank already contains approximately 18913.33 liters of water.\n",
            "\n",
            "**Step 4: Calculate the remaining volume of water needed to fill the tank**\n",
            "\n",
            "What I'm going to calculate: Remaining volume of water needed to fill the tank\n",
            "\n",
            "Calculation: 28270 liters - 18913.33 liters = 9356.67 liters\n",
            "\n",
            "Result: Approximately 9356.67 liters of water are needed to fill the tank.\n",
            "\n",
            "**Step 5: Calculate the time required to add the remaining volume of water, given the rate of water addition**\n",
            "\n",
            "What I'm going to calculate: Time required to add the remaining volume of water\n",
            "\n",
            "Given: Water is being added at a rate of 10 liters per minute\n",
            "\n",
            "Calculation: 9356.67 liters / (10 liters/minute) = 935.667 minutes\n",
            "\n",
            "Result: It will take approximately 935.667 minutes to add the remaining volume of water and fill the tank.\n",
            "\n",
            "**Step 6: Convert the time from minutes to hours and minutes**\n",
            "\n",
            "What I'm going to calculate: Time in hours and minutes\n",
            "\n",
            "Calculation: 935.667 minutes ≈ 15 hours and 36 minutes\n",
            "\n",
            "Result: It will take approximately 15 hours and 36 minutes to add the remaining volume of water and fill the tank.\n"
          ]
        }
      ]
    },
    {
      "cell_type": "code",
      "source": [
        "display.Markdown(standard_response)"
      ],
      "metadata": {
        "colab": {
          "base_uri": "https://localhost:8080/",
          "height": 337
        },
        "id": "xqOrKUl1vx2p",
        "outputId": "b1f13db2-f476-45d3-ecc4-129d66697fac"
      },
      "execution_count": null,
      "outputs": [
        {
          "output_type": "execute_result",
          "data": {
            "text/plain": [
              "<IPython.core.display.Markdown object>"
            ],
            "text/markdown": "To find the time it takes for the tank to overflow, first, calculate the volume of water remaining in the tank until it's full:\n\nThe total volume of the tank, \\(V\\), is calculated using the formula \\(V = \\pi r^2 h\\), where \\(r = 1.5\\) meters and \\(h = 4\\) meters:\n\\[V = \\pi \\times (1.5)^2 \\times 4 = 3.14159 \\times 2.25 \\times 4 = 28.274\\] cubic meters.\n\nSince the tank is 2/3 full, the volume of water already in the tank is \\(2/3 \\times 28.274\\) cubic meters, and the remaining volume to fill the tank is \\(28.274 - 2/3 \\times 28.274\\).\n\n\\[2/3 \\times 28.274 = 18.8493\\] cubic meters.\n\nThe remaining volume is \\(28.274 - 18.8493 = 9.4247\\) cubic meters.\n\nGiven \\(1\\) cubic meter \\(= 1000\\) liters, the remaining volume to fill in liters is:\n\\[9.4247 \\times 1000 = 9424.7\\) liters.\n\nWith water being added at a rate of 10 liters per minute, the time to fill the tank is:\n\\[9424.7 / 10 = 942.47\\) minutes.\n\nConverting the minutes to hours and minutes:\n\\[942.47 / 60 = 15.70745\\) hours.\n\nThus, 15 hours and 42 minutes, rounded to the nearest minute."
          },
          "metadata": {},
          "execution_count": 14
        }
      ]
    },
    {
      "cell_type": "code",
      "source": [
        "\n",
        "display.Markdown(cot_response)"
      ],
      "metadata": {
        "colab": {
          "base_uri": "https://localhost:8080/",
          "height": 735
        },
        "id": "FbpP12t4vUe2",
        "outputId": "d6e3c954-9f33-44c8-a617-45b7340e3e9c"
      },
      "execution_count": null,
      "outputs": [
        {
          "output_type": "execute_result",
          "data": {
            "text/plain": [
              "<IPython.core.display.Markdown object>"
            ],
            "text/markdown": "**Step 1: Calculate the volume of the cylindrical water tank**\n\nWhat I'm going to calculate: Volume of the cylindrical water tank\n\nFormula: V = πr^2h\n\nWhere:\nV = volume (cubic meters)\nπ = 3.14159\nr = radius (meters) = 1.5\nh = height (meters) = 4\n\nCalculation: V = 3.14159 × (1.5)^2 × 4 = 3.14159 × 2.25 × 4 = 28.27431 cubic meters\n\nResult: The volume of the cylindrical water tank is approximately 28.27 cubic meters.\n\n**Step 2: Convert the volume from cubic meters to liters**\n\nWhat I'm going to calculate: Volume of the cylindrical water tank in liters\n\nFormula: 1 cubic meter = 1000 liters\n\nCalculation: 28.27 cubic meters × 1000 liters/cubic meter = 28270 liters\n\nResult: The volume of the cylindrical water tank is approximately 28270 liters.\n\n**Step 3: Calculate the volume of water already in the tank**\n\nWhat I'm going to calculate: Volume of water already in the tank\n\nGiven: The tank is 2/3 full\n\nCalculation: (2/3) × 28270 liters = 18913.33 liters\n\nResult: The tank already contains approximately 18913.33 liters of water.\n\n**Step 4: Calculate the remaining volume of water needed to fill the tank**\n\nWhat I'm going to calculate: Remaining volume of water needed to fill the tank\n\nCalculation: 28270 liters - 18913.33 liters = 9356.67 liters\n\nResult: Approximately 9356.67 liters of water are needed to fill the tank.\n\n**Step 5: Calculate the time required to add the remaining volume of water, given the rate of water addition**\n\nWhat I'm going to calculate: Time required to add the remaining volume of water\n\nGiven: Water is being added at a rate of 10 liters per minute\n\nCalculation: 9356.67 liters / (10 liters/minute) = 935.667 minutes\n\nResult: It will take approximately 935.667 minutes to add the remaining volume of water and fill the tank.\n\n**Step 6: Convert the time from minutes to hours and minutes**\n\nWhat I'm going to calculate: Time in hours and minutes\n\nCalculation: 935.667 minutes ≈ 15 hours and 36 minutes\n\nResult: It will take approximately 15 hours and 36 minutes to add the remaining volume of water and fill the tank."
          },
          "metadata": {},
          "execution_count": 13
        }
      ]
    },
    {
      "cell_type": "code",
      "source": [
        "logical_reasoning_prompt = PromptTemplate(\n",
        "    input_variables=[\"scenario\"],\n",
        "    template=\"\"\"Analyze the following logical puzzle thoroughly. Follow these steps in your analysis:\n",
        "\n",
        "List the Facts:\n",
        "\n",
        "Summarize all the given information and statements clearly.\n",
        "Identify all the characters or elements involved.\n",
        "Identify Possible Roles or Conditions:\n",
        "\n",
        "Determine all possible roles, behaviors, or states applicable to the characters or elements (e.g., truth-teller, liar, alternator).\n",
        "Note the Constraints:\n",
        "\n",
        "Outline any rules, constraints, or relationships specified in the puzzle.\n",
        "Generate Possible Scenarios:\n",
        "\n",
        "Systematically consider all possible combinations of roles or conditions for the characters or elements.\n",
        "Ensure that all permutations are accounted for.\n",
        "Test Each Scenario:\n",
        "\n",
        "For each possible scenario:\n",
        "Assume the roles or conditions you've assigned.\n",
        "Analyze each statement based on these assumptions.\n",
        "Check for consistency or contradictions within the scenario.\n",
        "Eliminate Inconsistent Scenarios:\n",
        "\n",
        "Discard any scenarios that lead to contradictions or violate the constraints.\n",
        "Keep track of the reasoning for eliminating each scenario.\n",
        "Conclude the Solution:\n",
        "\n",
        "Identify the scenario(s) that remain consistent after testing.\n",
        "Summarize the findings.\n",
        "Provide a Clear Answer:\n",
        "\n",
        "State definitively the role or condition of each character or element.\n",
        "Explain why this is the only possible solution based on your analysis.\n",
        "Scenario:\n",
        "\n",
        "{scenario}\n",
        "\n",
        "Analysis:\"\"\")\n",
        "\n",
        "logical_reasoning_chain = logical_reasoning_prompt | llm\n",
        "\n",
        "logical_puzzle = \"\"\"In a room, there are three people: Amy, Bob, and Charlie.\n",
        "One of them always tells the truth, one always lies, and one alternates between truth and lies.\n",
        "Amy says, 'Bob is a liar.'\n",
        "Bob says, 'Charlie alternates between truth and lies.'\n",
        "Charlie says, 'Amy and I are both liars.'\n",
        "Determine the nature (truth-teller, liar, or alternator) of each person.\"\"\"\n",
        "\n",
        "logical_reasoning_response = logical_reasoning_chain.invoke(logical_puzzle).content\n",
        "print(logical_reasoning_response)"
      ],
      "metadata": {
        "colab": {
          "base_uri": "https://localhost:8080/"
        },
        "id": "X7uUwdpivg0v",
        "outputId": "44c9de2c-50c7-4f6d-8558-ef76746c95d7"
      },
      "execution_count": null,
      "outputs": [
        {
          "output_type": "stream",
          "name": "stdout",
          "text": [
            "Let's analyze the logical puzzle step by step.\n",
            "\n",
            "**List the Facts:**\n",
            "\n",
            "* There are three people in the room: Amy, Bob, and Charlie.\n",
            "* One of them always tells the truth.\n",
            "* One of them always lies.\n",
            "* One of them alternates between truth and lies.\n",
            "* Amy says, \"Bob is a liar.\"\n",
            "* Bob says, \"Charlie alternates between truth and lies.\"\n",
            "* Charlie says, \"Amy and I are both liars.\"\n",
            "\n",
            "**Identify Possible Roles or Conditions:**\n",
            "\n",
            "* Each person can be one of three types: truth-teller, liar, or alternator.\n",
            "\n",
            "**Note the Constraints:**\n",
            "\n",
            "* Each person can only be one type (truth-teller, liar, or alternator).\n",
            "* The statements made by each person must be consistent with their type.\n",
            "* There can only be one truth-teller, one liar, and one alternator.\n",
            "\n",
            "**Generate Possible Scenarios:**\n",
            "\n",
            "We can systematically consider all possible combinations of roles or conditions for the three people. There are 3! = 6 possible scenarios:\n",
            "\n",
            "Scenario 1: Amy (T), Bob (L), Charlie (A)\n",
            "Scenario 2: Amy (T), Bob (A), Charlie (L)\n",
            "Scenario 3: Amy (L), Bob (T), Charlie (A)\n",
            "Scenario 4: Amy (L), Bob (A), Charlie (T)\n",
            "Scenario 5: Amy (A), Bob (T), Charlie (L)\n",
            "Scenario 6: Amy (A), Bob (L), Charlie (T)\n",
            "\n",
            "**Test Each Scenario:**\n",
            "\n",
            "Let's assume each scenario and analyze the statements made by each person.\n",
            "\n",
            "Scenario 1: Amy (T), Bob (L), Charlie (A)\n",
            "* Amy says, \"Bob is a liar.\" (True)\n",
            "* Bob says, \"Charlie alternates between truth and lies.\" (False, since Bob is a liar)\n",
            "* Charlie says, \"Amy and I are both liars.\" (False, since Charlie alternates between truth and lies)\n",
            "This scenario is inconsistent, as Charlie's statement is false, but Charlie is an alternator.\n",
            "\n",
            "Scenario 2: Amy (T), Bob (A), Charlie (L)\n",
            "* Amy says, \"Bob is a liar.\" (False)\n",
            "* Bob says, \"Charlie alternates between truth and lies.\" (False, since Charlie is a liar)\n",
            "* Charlie says, \"Amy and I are both liars.\" (False)\n",
            "This scenario is inconsistent, as Amy's statement is false, but Amy is a truth-teller.\n",
            "\n",
            "Scenario 3: Amy (L), Bob (T), Charlie (A)\n",
            "* Amy says, \"Bob is a liar.\" (False)\n",
            "* Bob says, \"Charlie alternates between truth and lies.\" (True)\n",
            "* Charlie says, \"Amy and I are both liars.\" (True, since Charlie alternates between truth and lies)\n",
            "This scenario is consistent.\n",
            "\n",
            "Scenario 4: Amy (L), Bob (A), Charlie (T)\n",
            "* Amy says, \"Bob is a liar.\" (True)\n",
            "* Bob says, \"Charlie alternates between truth and lies.\" (False)\n",
            "* Charlie says, \"Amy and I are both liars.\" (False)\n",
            "This scenario is inconsistent, as Amy's statement is true, but Amy is a liar.\n",
            "\n",
            "Scenario 5: Amy (A), Bob (T), Charlie (L)\n",
            "* Amy says, \"Bob is a liar.\" (False)\n",
            "* Bob says, \"Charlie alternates between truth and lies.\" (False)\n",
            "* Charlie says, \"Amy and I are both liars.\" (False)\n",
            "This scenario is inconsistent, as Amy's statement is false, and Charlie's statement is false, but Charlie is a liar.\n",
            "\n",
            "Scenario 6: Amy (A), Bob (L), Charlie (T)\n",
            "* Amy says, \"Bob is a liar.\" (True)\n",
            "* Bob says, \"Charlie alternates between truth and lies.\" (False)\n",
            "* Charlie says, \"Amy and I are both liars.\" (False)\n",
            "This scenario is inconsistent, as Amy's statement is true, but Amy is an alternator.\n",
            "\n",
            "**Eliminate Inconsistent Scenarios:**\n",
            "\n",
            "We can eliminate scenarios 1, 2, 4, 5, and 6 due to inconsistencies.\n",
            "\n",
            "**Conclude the Solution:**\n",
            "\n",
            "The only consistent scenario is Scenario 3: Amy (L), Bob (T), Charlie (A).\n",
            "\n",
            "**Provide a Clear Answer:**\n",
            "\n",
            "Amy is a **liar**, Bob is a **truth-teller**, and Charlie is an **alternator**.\n",
            "\n",
            "Why is this the only possible solution? In Scenario 3, Amy's statement, \"Bob is a liar,\" is false, which is consistent with Amy being a liar. Bob's statement, \"Charlie alternates between truth and lies,\" is true, which is consistent with Bob being a truth-teller. Charlie's statement, \"Amy and I are both liars,\" is true in this scenario, which is consistent with Charlie being an alternator (since Charlie's statement is true, and Charlie\n"
          ]
        }
      ]
    },
    {
      "cell_type": "code",
      "source": [
        "display.Markdown(logical_reasoning_response)"
      ],
      "metadata": {
        "colab": {
          "base_uri": "https://localhost:8080/",
          "height": 1000
        },
        "id": "JZwmIR3Pv4-q",
        "outputId": "d50822c1-1acc-441e-8331-98d20091bcc7"
      },
      "execution_count": null,
      "outputs": [
        {
          "output_type": "execute_result",
          "data": {
            "text/plain": [
              "<IPython.core.display.Markdown object>"
            ],
            "text/markdown": "Let's analyze the logical puzzle step by step.\n\n**List the Facts:**\n\n* There are three people in the room: Amy, Bob, and Charlie.\n* One of them always tells the truth.\n* One of them always lies.\n* One of them alternates between truth and lies.\n* Amy says, \"Bob is a liar.\"\n* Bob says, \"Charlie alternates between truth and lies.\"\n* Charlie says, \"Amy and I are both liars.\"\n\n**Identify Possible Roles or Conditions:**\n\n* Each person can be one of three types: truth-teller, liar, or alternator.\n\n**Note the Constraints:**\n\n* Each person can only be one type (truth-teller, liar, or alternator).\n* The statements made by each person must be consistent with their type.\n* There can only be one truth-teller, one liar, and one alternator.\n\n**Generate Possible Scenarios:**\n\nWe can systematically consider all possible combinations of roles or conditions for the three people. There are 3! = 6 possible scenarios:\n\nScenario 1: Amy (T), Bob (L), Charlie (A)\nScenario 2: Amy (T), Bob (A), Charlie (L)\nScenario 3: Amy (L), Bob (T), Charlie (A)\nScenario 4: Amy (L), Bob (A), Charlie (T)\nScenario 5: Amy (A), Bob (T), Charlie (L)\nScenario 6: Amy (A), Bob (L), Charlie (T)\n\n**Test Each Scenario:**\n\nLet's assume each scenario and analyze the statements made by each person.\n\nScenario 1: Amy (T), Bob (L), Charlie (A)\n* Amy says, \"Bob is a liar.\" (True)\n* Bob says, \"Charlie alternates between truth and lies.\" (False, since Bob is a liar)\n* Charlie says, \"Amy and I are both liars.\" (False, since Charlie alternates between truth and lies)\nThis scenario is inconsistent, as Charlie's statement is false, but Charlie is an alternator.\n\nScenario 2: Amy (T), Bob (A), Charlie (L)\n* Amy says, \"Bob is a liar.\" (False)\n* Bob says, \"Charlie alternates between truth and lies.\" (False, since Charlie is a liar)\n* Charlie says, \"Amy and I are both liars.\" (False)\nThis scenario is inconsistent, as Amy's statement is false, but Amy is a truth-teller.\n\nScenario 3: Amy (L), Bob (T), Charlie (A)\n* Amy says, \"Bob is a liar.\" (False)\n* Bob says, \"Charlie alternates between truth and lies.\" (True)\n* Charlie says, \"Amy and I are both liars.\" (True, since Charlie alternates between truth and lies)\nThis scenario is consistent.\n\nScenario 4: Amy (L), Bob (A), Charlie (T)\n* Amy says, \"Bob is a liar.\" (True)\n* Bob says, \"Charlie alternates between truth and lies.\" (False)\n* Charlie says, \"Amy and I are both liars.\" (False)\nThis scenario is inconsistent, as Amy's statement is true, but Amy is a liar.\n\nScenario 5: Amy (A), Bob (T), Charlie (L)\n* Amy says, \"Bob is a liar.\" (False)\n* Bob says, \"Charlie alternates between truth and lies.\" (False)\n* Charlie says, \"Amy and I are both liars.\" (False)\nThis scenario is inconsistent, as Amy's statement is false, and Charlie's statement is false, but Charlie is a liar.\n\nScenario 6: Amy (A), Bob (L), Charlie (T)\n* Amy says, \"Bob is a liar.\" (True)\n* Bob says, \"Charlie alternates between truth and lies.\" (False)\n* Charlie says, \"Amy and I are both liars.\" (False)\nThis scenario is inconsistent, as Amy's statement is true, but Amy is an alternator.\n\n**Eliminate Inconsistent Scenarios:**\n\nWe can eliminate scenarios 1, 2, 4, 5, and 6 due to inconsistencies.\n\n**Conclude the Solution:**\n\nThe only consistent scenario is Scenario 3: Amy (L), Bob (T), Charlie (A).\n\n**Provide a Clear Answer:**\n\nAmy is a **liar**, Bob is a **truth-teller**, and Charlie is an **alternator**.\n\nWhy is this the only possible solution? In Scenario 3, Amy's statement, \"Bob is a liar,\" is false, which is consistent with Amy being a liar. Bob's statement, \"Charlie alternates between truth and lies,\" is true, which is consistent with Bob being a truth-teller. Charlie's statement, \"Amy and I are both liars,\" is true in this scenario, which is consistent with Charlie being an alternator (since Charlie's statement is true, and Charlie"
          },
          "metadata": {},
          "execution_count": 16
        }
      ]
    },
    {
      "cell_type": "code",
      "source": [],
      "metadata": {
        "id": "AWGsSKo2v_OT"
      },
      "execution_count": null,
      "outputs": []
    }
  ]
}