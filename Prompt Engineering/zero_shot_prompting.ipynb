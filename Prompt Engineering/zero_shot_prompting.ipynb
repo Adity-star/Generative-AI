{
  "nbformat": 4,
  "nbformat_minor": 0,
  "metadata": {
    "colab": {
      "provenance": []
    },
    "kernelspec": {
      "name": "python3",
      "display_name": "Python 3"
    },
    "language_info": {
      "name": "python"
    }
  },
  "cells": [
    {
      "cell_type": "code",
      "source": [
        "%pip install -U  langchain_community langchain-openai langchain-nvidia-ai-endpoints"
      ],
      "metadata": {
        "id": "iXgmW49YieYd"
      },
      "execution_count": null,
      "outputs": []
    },
    {
      "cell_type": "code",
      "source": [
        "import getpass\n",
        "import os\n",
        "\n",
        "\n",
        "def _set_env(var: str):\n",
        "    if not os.environ.get(var):\n",
        "        os.environ[var] = getpass.getpass(f\"{var}: \")\n",
        "\n",
        "_set_env(\"NVIDIA_API_KEY\")"
      ],
      "metadata": {
        "colab": {
          "base_uri": "https://localhost:8080/"
        },
        "id": "xOZhOrlLiY_C",
        "outputId": "7e4c08a6-9da3-4d29-dc01-4d74e95f0463"
      },
      "execution_count": null,
      "outputs": [
        {
          "name": "stdout",
          "output_type": "stream",
          "text": [
            "NVIDIA_API_KEY: ··········\n"
          ]
        }
      ]
    },
    {
      "cell_type": "code",
      "source": [
        "from langchain_nvidia_ai_endpoints import ChatNVIDIA\n",
        "from langchain.prompts import PromptTemplate\n",
        "from langchain.chains import LLMChain\n",
        "from dotenv import load_dotenv\n",
        "\n",
        "# Load environment variables\n",
        "load_dotenv()\n",
        "\n",
        "llm = ChatNVIDIA(model=\"meta/llama-3.1-70b-instruct\")\n",
        "\n",
        "def create_chain(prompt_template):\n",
        "  prompt = PromptTemplate.from_template(prompt_template)\n",
        "  return prompt | llm"
      ],
      "metadata": {
        "id": "WDx3q7oQiY7p"
      },
      "execution_count": null,
      "outputs": []
    },
    {
      "cell_type": "markdown",
      "source": [
        "## 1. Direct Task Specification\n"
      ],
      "metadata": {
        "id": "7L6rUHTXiY5j"
      }
    },
    {
      "cell_type": "code",
      "source": [
        "direct_task_prompt =\"\"\"Classify the sentiment of the following text as positive, negative, or neutral.\n",
        "Do not explain your reasoning, just provide the classification.\n",
        "\n",
        "Text: {text}\n",
        "\n",
        "Sentiment:\"\"\"\n",
        "\n",
        "direct_task_chain = create_chain(direct_task_prompt)\n",
        "\n",
        "texts = [\n",
        "    \"The movie was so dissapointing,i didnt like it\",\n",
        "    \"The trip was so awesome, we should go again.\",\n",
        "    \"I'm disappointed with the service I received at the restaurant.\"\n",
        "]\n",
        "\n",
        "for text in texts:\n",
        "  result = direct_task_chain.invoke({\"text\": text}).content\n",
        "  print(f\"Text: {text}\\nSentiment: {result}\\n\")\n"
      ],
      "metadata": {
        "colab": {
          "base_uri": "https://localhost:8080/"
        },
        "id": "uAXR06kujNXO",
        "outputId": "770978c3-e167-4033-f5d7-b4d22d3f654d"
      },
      "execution_count": null,
      "outputs": [
        {
          "output_type": "stream",
          "name": "stdout",
          "text": [
            "Text: The movie was so dissapointing,i didnt like it\n",
            "Sentiment: Negative\n",
            "\n",
            "Text: The trip was so awesome, we should go again.\n",
            "Sentiment: Positive\n",
            "\n",
            "Text: I'm disappointed with the service I received at the restaurant.\n",
            "Sentiment: Negative\n",
            "\n"
          ]
        }
      ]
    },
    {
      "cell_type": "markdown",
      "source": [
        "## 2. Role based Prompting"
      ],
      "metadata": {
        "id": "bU9qJuKnoHyP"
      }
    },
    {
      "cell_type": "code",
      "source": [
        "role_prompt = \"\"\"you are a expert financial advisor.your task is to explain\n",
        "the importance of diversifying an investment portfilio to a begineer.\"\"\"\n",
        "\n",
        "role_chain = create_chain(role_prompt)\n",
        "\n",
        "result = role_chain.invoke({}).content\n",
        "print(result)"
      ],
      "metadata": {
        "colab": {
          "base_uri": "https://localhost:8080/"
        },
        "id": "jRsobtPWoLhe",
        "outputId": "bc43938e-4c0b-4f7a-c2ad-494ec1701641"
      },
      "execution_count": null,
      "outputs": [
        {
          "output_type": "stream",
          "name": "stdout",
          "text": [
            "As a financial advisor, I'm excited to explain the importance of diversifying an investment portfolio in simple terms, so anyone can understand.\n",
            "\n",
            "**What is diversification?**\n",
            "\n",
            "Diversification is a strategy used to manage risk in investing. It involves spreading your investments across different types of assets, industries, and geographic regions to minimize the impact of any one investment on your overall portfolio.\n",
            "\n",
            "**Why is diversification important?**\n",
            "\n",
            "Imagine you own a lemonade stand, and all your customers like to drink only one flavor of lemonade, let's say, orange. If something happens to the orange lemonade supply, your business might suffer. But, if you also offer other flavors like lemon, lime, and grapefruit, you'll have a better chance of attracting more customers and reducing your reliance on just one flavor.\n",
            "\n",
            "Similarly, when you invest in only one type of asset, like stocks or real estate, you're putting all your eggs in one basket. If that investment performs poorly, your entire portfolio might suffer. By diversifying, you're spreading your eggs across multiple baskets, reducing the risk of significant losses if one investment doesn't do well.\n",
            "\n",
            "**Benefits of diversification:**\n",
            "\n",
            "1. **Reduces risk**: Diversification helps to minimize the impact of market volatility, economic downturns, and company-specific issues.\n",
            "2. **Increases potential returns**: By investing in different asset classes and industries, you may be able to capture growth opportunities that you wouldn't have access to otherwise.\n",
            "3. **Provides a hedge against inflation**: Diversification can help protect your portfolio from inflation, as some investments, like commodities or real estate, often perform well in inflationary environments.\n",
            "4. **Enhances long-term stability**: A diversified portfolio is more likely to remain stable over the long term, even in turbulent markets.\n",
            "\n",
            "**How to diversify your portfolio:**\n",
            "\n",
            "1. **Asset allocation**: Divide your investments into different asset classes, such as:\n",
            "\t* Stocks (e.g., individual stocks, equity funds, or exchange-traded funds (ETFs))\n",
            "\t* Bonds (e.g., government bonds, corporate bonds, or bond funds)\n",
            "\t* Real estate (e.g., direct property investment, real estate investment trusts (REITs), or real estate mutual funds)\n",
            "\t* Commodities (e.g., gold, oil, or commodity ETFs)\n",
            "\t* Alternatives (e.g., private equity, hedge funds, or cryptocurrency)\n",
            "2. ** Sector allocation**: Spread your investments across different industries and sectors, such as:\n",
            "\t* Technology\n",
            "\t* Healthcare\n",
            "\t* Finance\n",
            "\t* Consumer goods\n",
            "\t* Energy\n",
            "3. **Geographic diversification**: Invest in companies or assets from various regions, such as:\n",
            "\t* Domestic markets (e.g., US, UK, or Canada)\n",
            "\t* International markets (e.g., Europe, Asia, or emerging markets)\n",
            "\t* Emerging markets (e.g., Brazil, China, or India)\n",
            "\n",
            "**Getting started:**\n",
            "\n",
            "If you're new to investing, consider the following steps:\n",
            "\n",
            "1. Start with a solid foundation of low-cost index funds or ETFs, which provide broad diversification and can be an efficient way to invest in various asset classes.\n",
            "2. Allocate your investments according to your risk tolerance and investment goals.\n",
            "3. Rebalance your portfolio periodically to ensure it remains aligned with your investment objectives and risk tolerance.\n",
            "\n",
            "Remember, diversification is a long-term strategy. It's not about trying to time the market or making quick profits. By spreading your investments across different asset classes, sectors, and geographic regions, you can reduce risk and increase the potential for long-term growth.\n"
          ]
        }
      ]
    },
    {
      "cell_type": "code",
      "source": [
        "display.Markdown(result)"
      ],
      "metadata": {
        "colab": {
          "base_uri": "https://localhost:8080/",
          "height": 1000
        },
        "id": "r0leo8AjoLeB",
        "outputId": "f3166690-5bcf-4049-e43c-6605d17d34e7"
      },
      "execution_count": null,
      "outputs": [
        {
          "output_type": "execute_result",
          "data": {
            "text/plain": [
              "<IPython.core.display.Markdown object>"
            ],
            "text/markdown": "As a financial advisor, I'm excited to explain the importance of diversifying an investment portfolio in simple terms, so anyone can understand.\n\n**What is diversification?**\n\nDiversification is a strategy used to manage risk in investing. It involves spreading your investments across different types of assets, industries, and geographic regions to minimize the impact of any one investment on your overall portfolio.\n\n**Why is diversification important?**\n\nImagine you own a lemonade stand, and all your customers like to drink only one flavor of lemonade, let's say, orange. If something happens to the orange lemonade supply, your business might suffer. But, if you also offer other flavors like lemon, lime, and grapefruit, you'll have a better chance of attracting more customers and reducing your reliance on just one flavor.\n\nSimilarly, when you invest in only one type of asset, like stocks or real estate, you're putting all your eggs in one basket. If that investment performs poorly, your entire portfolio might suffer. By diversifying, you're spreading your eggs across multiple baskets, reducing the risk of significant losses if one investment doesn't do well.\n\n**Benefits of diversification:**\n\n1. **Reduces risk**: Diversification helps to minimize the impact of market volatility, economic downturns, and company-specific issues.\n2. **Increases potential returns**: By investing in different asset classes and industries, you may be able to capture growth opportunities that you wouldn't have access to otherwise.\n3. **Provides a hedge against inflation**: Diversification can help protect your portfolio from inflation, as some investments, like commodities or real estate, often perform well in inflationary environments.\n4. **Enhances long-term stability**: A diversified portfolio is more likely to remain stable over the long term, even in turbulent markets.\n\n**How to diversify your portfolio:**\n\n1. **Asset allocation**: Divide your investments into different asset classes, such as:\n\t* Stocks (e.g., individual stocks, equity funds, or exchange-traded funds (ETFs))\n\t* Bonds (e.g., government bonds, corporate bonds, or bond funds)\n\t* Real estate (e.g., direct property investment, real estate investment trusts (REITs), or real estate mutual funds)\n\t* Commodities (e.g., gold, oil, or commodity ETFs)\n\t* Alternatives (e.g., private equity, hedge funds, or cryptocurrency)\n2. ** Sector allocation**: Spread your investments across different industries and sectors, such as:\n\t* Technology\n\t* Healthcare\n\t* Finance\n\t* Consumer goods\n\t* Energy\n3. **Geographic diversification**: Invest in companies or assets from various regions, such as:\n\t* Domestic markets (e.g., US, UK, or Canada)\n\t* International markets (e.g., Europe, Asia, or emerging markets)\n\t* Emerging markets (e.g., Brazil, China, or India)\n\n**Getting started:**\n\nIf you're new to investing, consider the following steps:\n\n1. Start with a solid foundation of low-cost index funds or ETFs, which provide broad diversification and can be an efficient way to invest in various asset classes.\n2. Allocate your investments according to your risk tolerance and investment goals.\n3. Rebalance your portfolio periodically to ensure it remains aligned with your investment objectives and risk tolerance.\n\nRemember, diversification is a long-term strategy. It's not about trying to time the market or making quick profits. By spreading your investments across different asset classes, sectors, and geographic regions, you can reduce risk and increase the potential for long-term growth."
          },
          "metadata": {},
          "execution_count": 18
        }
      ]
    },
    {
      "cell_type": "markdown",
      "source": [
        "## 3. Format Specification"
      ],
      "metadata": {
        "id": "BEUQaMSnjNT3"
      }
    },
    {
      "cell_type": "code",
      "source": [
        "format_prompt = \"\"\"Generate a short news article about {topic}.\n",
        "Structure your response in the following format:\n",
        "\n",
        "Headline: [A catchy headline for the article]\n",
        "\n",
        "Lead: [A brief introductory paragraph summarizing the key points]\n",
        "\n",
        "Body: [2-3 short paragraphs providing more details]\n",
        "\n",
        "Conclusion: [A concluding sentence or call to action]\"\"\"\n",
        "\n",
        "\n",
        "format_chain = create_chain(format_prompt)\n",
        "\n",
        "topic = \"The discovery of exoskeleton of dinouser \"\n",
        "result = format_chain.invoke({\"topic\": topic}).content\n",
        "print(result)"
      ],
      "metadata": {
        "colab": {
          "base_uri": "https://localhost:8080/"
        },
        "id": "g9jQcOPEjNRN",
        "outputId": "e149d254-b300-4d15-cbaa-14407520c44e"
      },
      "execution_count": null,
      "outputs": [
        {
          "output_type": "stream",
          "name": "stdout",
          "text": [
            "**Headline:** \"Fossilized Exoskeleton of Previously Unknown Dinosaur Species Uncovered in Patagonia\"\n",
            "\n",
            "**Lead:** Paleontologists are abuzz with excitement following the discovery of a nearly complete exoskeleton of a previously unknown dinosaur species in the Patagonia region of South America. The remarkable find is set to shed new light on the evolution of armored dinosaurs during the Cretaceous period.\n",
            "\n",
            "**Body:** The fossilized remains, which have been dated to around 75 million years ago, were unearthed by a team of researchers from the Argentine Museum of Natural Sciences in a remote area of Patagonia. The exoskeleton, which measures over 6 meters in length, is remarkably well-preserved and features a distinctive set of scutes (bony plates) running along its back. According to Dr. Maria Rodriguez, lead researcher on the project, \"The discovery of this new species is a significant one, as it fills a gap in our understanding of the evolution of armored dinosaurs during this period.\"\n",
            "\n",
            "Initial analysis suggests that the dinosaur, which has been named \"Argentinoscutum armoratum\", was a type of nodosaurid, a group of plant-eating dinosaurs characterized by their distinctive body armor. The team is now working to fully excavate the fossil and prepare it for further study.\n",
            "\n",
            "**Conclusion:** As scientists continue to study the fossil, the discovery of Argentinoscutum armoratum is set to rewrite the textbooks on dinosaur evolution and provide a new window into the ancient world of the Cretaceous period.\n"
          ]
        }
      ]
    },
    {
      "cell_type": "code",
      "source": [
        "from IPython import display\n",
        "\n",
        "display.Markdown(result)"
      ],
      "metadata": {
        "colab": {
          "base_uri": "https://localhost:8080/",
          "height": 348
        },
        "id": "LtHYTHgFjNPE",
        "outputId": "92944aca-8440-499b-e46f-3b426b25d43a"
      },
      "execution_count": null,
      "outputs": [
        {
          "output_type": "execute_result",
          "data": {
            "text/plain": [
              "<IPython.core.display.Markdown object>"
            ],
            "text/markdown": "**Headline:** \"Fossilized Exoskeleton of Previously Unknown Dinosaur Species Uncovered in Patagonia\"\n\n**Lead:** Paleontologists are abuzz with excitement following the discovery of a nearly complete exoskeleton of a previously unknown dinosaur species in the Patagonia region of South America. The remarkable find is set to shed new light on the evolution of armored dinosaurs during the Cretaceous period.\n\n**Body:** The fossilized remains, which have been dated to around 75 million years ago, were unearthed by a team of researchers from the Argentine Museum of Natural Sciences in a remote area of Patagonia. The exoskeleton, which measures over 6 meters in length, is remarkably well-preserved and features a distinctive set of scutes (bony plates) running along its back. According to Dr. Maria Rodriguez, lead researcher on the project, \"The discovery of this new species is a significant one, as it fills a gap in our understanding of the evolution of armored dinosaurs during this period.\"\n\nInitial analysis suggests that the dinosaur, which has been named \"Argentinoscutum armoratum\", was a type of nodosaurid, a group of plant-eating dinosaurs characterized by their distinctive body armor. The team is now working to fully excavate the fossil and prepare it for further study.\n\n**Conclusion:** As scientists continue to study the fossil, the discovery of Argentinoscutum armoratum is set to rewrite the textbooks on dinosaur evolution and provide a new window into the ancient world of the Cretaceous period."
          },
          "metadata": {},
          "execution_count": 7
        }
      ]
    },
    {
      "cell_type": "markdown",
      "source": [
        "## 4. Multi-step Reasoning"
      ],
      "metadata": {
        "id": "EY2aJlWMjNMo"
      }
    },
    {
      "cell_type": "code",
      "source": [
        "multi_step_prompt = \"\"\"Analyze the following text for its main argument, supporting evidence, and potential counterarguments.\n",
        "Provide your analysis in the following steps:\n",
        "\n",
        "1. Main Argument: Identify and state the primary claim or thesis.\n",
        "2. Supporting Evidence: List the key points or evidence used to support the main argument.\n",
        "3. Potential Counterarguments: Suggest possible objections or alternative viewpoints to the main argument.\n",
        "\n",
        "Text: {text}\n",
        "\n",
        "Analysis:\"\"\"\n",
        "\n",
        "multi_step_chain = create_chain(multi_step_prompt)\n",
        "\n",
        "# Test the multi-step reasoning approach\n",
        "text = \"\"\"While electric vehicles are often touted as a solution to climate change, their environmental impact is not as straightforward as it seems.\n",
        "The production of batteries for electric cars requires significant mining operations, which can lead to habitat destruction and water pollution.\n",
        "Moreover, if the electricity used to charge these vehicles comes from fossil fuel sources, the overall carbon footprint may not be significantly reduced.\n",
        "However, as renewable energy sources become more prevalent and battery technology improves, electric vehicles could indeed play a crucial role in combating climate change.\"\"\"\n",
        "\n",
        "result = multi_step_chain.invoke({\"text\": text}).content\n",
        "print(result)"
      ],
      "metadata": {
        "colab": {
          "base_uri": "https://localhost:8080/"
        },
        "id": "LfGGqmTyjNKM",
        "outputId": "d3f94984-092d-4e45-9d59-c5710ba52658"
      },
      "execution_count": null,
      "outputs": [
        {
          "output_type": "stream",
          "name": "stdout",
          "text": [
            "Here is the analysis of the text:\n",
            "\n",
            "**1. Main Argument:**\n",
            "The primary claim or thesis of the text is that electric vehicles may not be as environmentally friendly as often thought, but they still have the potential to be a crucial tool in combating climate change if certain conditions are met.\n",
            "\n",
            "**2. Supporting Evidence:**\n",
            "The key points or evidence used to support the main argument are:\n",
            "\n",
            "* The production of batteries for electric cars requires significant mining operations, which can lead to habitat destruction and water pollution.\n",
            "* If the electricity used to charge these vehicles comes from fossil fuel sources, the overall carbon footprint may not be significantly reduced.\n",
            "* The potential for improvement in battery technology and the increasing prevalence of renewable energy sources.\n",
            "\n",
            "**3. Potential Counterarguments:**\n",
            "Possible objections or alternative viewpoints to the main argument include:\n",
            "\n",
            "* The benefits of electric vehicles in reducing air pollution and greenhouse gas emissions in urban areas outweigh the environmental costs of battery production and charging.\n",
            "* The development of new battery recycling technologies and closed-loop production systems could mitigate the environmental impacts of battery production.\n",
            "* The text's assumption that fossil fuels will remain a primary source of electricity for charging electric vehicles is overly pessimistic, and renewable energy will become more dominant in the grid over time.\n",
            "* The environmental impacts of electric vehicle production and charging must be considered in the context of the entire lifecycle of the vehicle, including the emissions savings from driving electric vehicles compared to traditional internal combustion engine vehicles.\n",
            "\n",
            "Overall, the text presents a nuanced view of electric vehicles' potential role in addressing climate change, acknowledging both the current limitations and the potential for future improvements.\n"
          ]
        }
      ]
    },
    {
      "cell_type": "code",
      "source": [
        "display.Markdown(result)"
      ],
      "metadata": {
        "colab": {
          "base_uri": "https://localhost:8080/",
          "height": 499
        },
        "id": "NVfO137RjNHv",
        "outputId": "72b0b458-8fdf-4942-9baf-004bf327f527"
      },
      "execution_count": null,
      "outputs": [
        {
          "output_type": "execute_result",
          "data": {
            "text/plain": [
              "<IPython.core.display.Markdown object>"
            ],
            "text/markdown": "Here is the analysis of the text:\n\n**1. Main Argument:**\nThe primary claim or thesis of the text is that electric vehicles may not be as environmentally friendly as often thought, but they still have the potential to be a crucial tool in combating climate change if certain conditions are met.\n\n**2. Supporting Evidence:**\nThe key points or evidence used to support the main argument are:\n\n* The production of batteries for electric cars requires significant mining operations, which can lead to habitat destruction and water pollution.\n* If the electricity used to charge these vehicles comes from fossil fuel sources, the overall carbon footprint may not be significantly reduced.\n* The potential for improvement in battery technology and the increasing prevalence of renewable energy sources.\n\n**3. Potential Counterarguments:**\nPossible objections or alternative viewpoints to the main argument include:\n\n* The benefits of electric vehicles in reducing air pollution and greenhouse gas emissions in urban areas outweigh the environmental costs of battery production and charging.\n* The development of new battery recycling technologies and closed-loop production systems could mitigate the environmental impacts of battery production.\n* The text's assumption that fossil fuels will remain a primary source of electricity for charging electric vehicles is overly pessimistic, and renewable energy will become more dominant in the grid over time.\n* The environmental impacts of electric vehicle production and charging must be considered in the context of the entire lifecycle of the vehicle, including the emissions savings from driving electric vehicles compared to traditional internal combustion engine vehicles.\n\nOverall, the text presents a nuanced view of electric vehicles' potential role in addressing climate change, acknowledging both the current limitations and the potential for future improvements."
          },
          "metadata": {},
          "execution_count": 9
        }
      ]
    },
    {
      "cell_type": "markdown",
      "source": [
        "## 5. Comparative Analysis"
      ],
      "metadata": {
        "id": "58hohd4xjNFK"
      }
    },
    {
      "cell_type": "code",
      "source": [
        "def compare_prompts(task, prompt_templates):\n",
        "    print(f\"Task: {task}\\n\")\n",
        "    for name, template in prompt_templates.items():\n",
        "        chain = create_chain(template)\n",
        "        result = chain.invoke({\"task\": task}).content\n",
        "        print(f\"{name} Prompt Result:\")\n",
        "        print(result)\n",
        "        print(\"\\n\" + \"-\"*50 + \"\\n\")\n",
        "\n",
        "\n",
        "task = \"Explain concisely the concept of blockchain technology\"\n",
        "\n",
        "prompt_templates = {\n",
        "    \"Basic\": \"Explain {task}.\",\n",
        "    \"Structured\": \"\"\"Explain {task} by addressing the following points:\n",
        "1. Definition\n",
        "2. Key features\n",
        "3. Real-world applications\n",
        "4. Potential impact on industries\"\"\"\n",
        "}\n",
        "\n",
        "result = compare_prompts(task, prompt_templates)\n",
        "print(result)"
      ],
      "metadata": {
        "colab": {
          "base_uri": "https://localhost:8080/"
        },
        "id": "1GpNgq9rljnz",
        "outputId": "9b0e036f-3812-4051-c54b-f85c5e9d66ab"
      },
      "execution_count": null,
      "outputs": [
        {
          "output_type": "stream",
          "name": "stdout",
          "text": [
            "Task: Explain concisely the concept of blockchain technology\n",
            "\n",
            "Basic Prompt Result:\n",
            "Here is a concise explanation of blockchain technology:\n",
            "\n",
            "**Blockchain Technology:** A decentralized, digital ledger that records transactions and data in a secure, transparent, and tamper-proof way. It uses a network of computers to validate and agree on the state of the ledger, making it difficult to alter or falsify.\n",
            "\n",
            "**Key Features:**\n",
            "\n",
            "1. **Decentralized**: No single entity controls the ledger.\n",
            "2. **Distributed**: Multiple computers (nodes) work together to validate transactions.\n",
            "3. **Immutable**: Transactions are permanently recorded and cannot be altered.\n",
            "4. **Transparent**: All transactions are visible to anyone on the network.\n",
            "5. **Secure**: Uses cryptography to protect data and ensure integrity.\n",
            "\n",
            "**How it works:**\n",
            "\n",
            "1. A network of nodes (computers) verifies transactions.\n",
            "2. A group of verified transactions is collected into a \"block\".\n",
            "3. Each block is linked to the previous block, creating a \"chain\" of blocks (hence, \"blockchain\").\n",
            "4. The blockchain is updated on each node, ensuring that all nodes have the same version of the ledger.\n",
            "\n",
            "Blockchain technology has various applications, including cryptocurrencies (e.g., Bitcoin), supply chain management, and more.\n",
            "\n",
            "--------------------------------------------------\n",
            "\n",
            "Structured Prompt Result:\n",
            "Here's a concise explanation of blockchain technology:\n",
            "\n",
            "**1. Definition:**\n",
            "Blockchain technology is a decentralized, digital ledger that records transactions across a network of computers in a secure, transparent, and tamper-proof manner. It enables the creation of a permanent, unalterable record of transactions, assets, or data.\n",
            "\n",
            "**2. Key Features:**\n",
            "\n",
            "* **Decentralized**: No single entity controls the network; data is distributed across multiple nodes.\n",
            "* **Immutable**: Transactions are timestamped and linked to previous transactions, creating a permanent record.\n",
            "* **Transparent**: All transactions are visible to network participants.\n",
            "* **Consensus-driven**: Network nodes verify and validate transactions through complex algorithms.\n",
            "\n",
            "**3. Real-world Applications:**\n",
            "\n",
            "* **Cryptocurrencies**: Bitcoin, Ethereum, and other digital currencies use blockchain for secure transactions.\n",
            "* **Supply Chain Management**: Companies like Walmart and Maersk use blockchain to track goods and inventory.\n",
            "* **Smart Contracts**: Self-executing contracts with automated rules and penalties, used in industries like insurance and finance.\n",
            "* **Identity Verification**: Secure identity management systems, such as Estonia's e-residency program.\n",
            "\n",
            "**4. Potential Impact on Industries:**\n",
            "\n",
            "* **Finance**: Streamlined transactions, reduced risk, and increased transparency.\n",
            "* **Healthcare**: Securely sharing medical records, tracking prescriptions, and enabling telemedicine.\n",
            "* **Manufacturing**: Improved supply chain management, reduced counterfeiting, and increased efficiency.\n",
            "* **Voting Systems**: Secure, transparent, and tamper-proof voting processes.\n",
            "\n",
            "Overall, blockchain technology has the potential to transform various industries by increasing security, transparency, and efficiency, while also enabling new business models and applications.\n",
            "\n",
            "--------------------------------------------------\n",
            "\n",
            "None\n"
          ]
        }
      ]
    },
    {
      "cell_type": "code",
      "source": [],
      "metadata": {
        "id": "Z1f4wztiljdL"
      },
      "execution_count": null,
      "outputs": []
    }
  ]
}